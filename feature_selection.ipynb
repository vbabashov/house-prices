{
 "cells": [
  {
   "cell_type": "markdown",
   "id": "specific-wireless",
   "metadata": {},
   "source": [
    "# Notebook 2: Feature Selection"
   ]
  },
  {
   "cell_type": "markdown",
   "id": "native-orleans",
   "metadata": {},
   "source": [
    "From EDA, we observed there are many potentially irrelevant features which can decrease the accuracy of the model we build and lead to more overfitting. In this notebook, I'll use several techniques to determine the most important features."
   ]
  },
  {
   "cell_type": "code",
   "execution_count": 98,
   "id": "juvenile-wednesday",
   "metadata": {},
   "outputs": [],
   "source": [
    "import pandas as pd\n",
    "import math \n",
    "import numpy as np\n",
    "import matplotlib.pyplot as plt\n",
    "import seaborn as sns\n",
    "%matplotlib inline\n",
    "\n",
    "import warnings\n",
    "warnings.filterwarnings('ignore')\n",
    "\n",
    "\n",
    "from sklearn.impute import SimpleImputer\n",
    "from sklearn.pipeline import Pipeline\n",
    "from sklearn.preprocessing import OneHotEncoder\n",
    "from sklearn.preprocessing import OrdinalEncoder\n",
    "\n",
    "from sklearn.feature_selection import SelectFromModel, SelectKBest, f_regression, mutual_info_regression, RFE\n",
    "from sklearn.model_selection import GridSearchCV, RandomizedSearchCV, train_test_split\n",
    "from sklearn.model_selection import cross_val_score \n",
    "from sklearn.metrics import mean_absolute_error, mean_squared_error, r2_score\n",
    "from sklearn.linear_model import LinearRegression, Lasso, Ridge\n",
    "from sklearn.experimental import enable_hist_gradient_boosting\n",
    "from sklearn.ensemble import RandomForestRegressor, HistGradientBoostingRegressor\n",
    "\n",
    "\n",
    "import lightgbm as lgb \n",
    "import xgboost as xgb\n",
    "from xgboost import XGBRegressor\n",
    "from lightgbm import LGBMRegressor\n",
    "\n",
    "\n",
    "#your info here\n",
    "__author__ = \"Vusal Babashov\"\n",
    "__email__ = \"vbabashov@gmail.com\"\n",
    "__website__ = 'https://vbabashov.github.io'"
   ]
  },
  {
   "cell_type": "code",
   "execution_count": 99,
   "id": "checked-legislature",
   "metadata": {},
   "outputs": [],
   "source": [
    "#conda update scikit-learn"
   ]
  },
  {
   "cell_type": "code",
   "execution_count": 100,
   "id": "intended-inside",
   "metadata": {},
   "outputs": [],
   "source": [
    "#import sklearn\n",
    "#print(sklearn.__version__)"
   ]
  },
  {
   "cell_type": "code",
   "execution_count": 101,
   "id": "existing-tennis",
   "metadata": {},
   "outputs": [],
   "source": [
    "#load the data into a Pandas dataframe\n",
    "file_path = \"/Users/vusalbabashov/Desktop/house-prices/data/\"\n",
    "df_train = pd.read_csv(file_path + \"train.csv\")\n",
    "df_test_feature = pd.read_csv(file_path + \"test.csv\")\n",
    "df_test_target = pd.read_csv(file_path + \"sample_submission.csv\")"
   ]
  },
  {
   "cell_type": "code",
   "execution_count": 102,
   "id": "clean-taiwan",
   "metadata": {},
   "outputs": [],
   "source": [
    "#df_merged = pd.merge(left=df_test_feature.reset_index(), right=df_test_target.reset_index(), on='Id') # merge the test feature and target dataframes\n",
    "df_merged = pd.merge(left=df_test_feature, right=df_test_target, how='inner', on='Id', left_index=False, right_index=False)\n",
    "df_raw = pd.concat([df_train, df_merged]) #concatenate the tran and test dataframes\n",
    "df_new = df_raw.reset_index(drop=True)"
   ]
  },
  {
   "cell_type": "code",
   "execution_count": 103,
   "id": "curious-geography",
   "metadata": {},
   "outputs": [],
   "source": [
    "#From EDA, we know that 'Alley', 'PoolQC', 'Fence', 'MiscFeature' are missing in big proportion, so we'll drop them and 'Id'.\n",
    "df_new.drop(columns = ['Id','Alley', 'PoolQC', 'Fence', 'MiscFeature'], inplace=True)"
   ]
  },
  {
   "cell_type": "code",
   "execution_count": 104,
   "id": "christian-bookmark",
   "metadata": {},
   "outputs": [
    {
     "data": {
      "text/plain": [
       "(2919, 76)"
      ]
     },
     "execution_count": 104,
     "metadata": {},
     "output_type": "execute_result"
    }
   ],
   "source": [
    "df_new.shape"
   ]
  },
  {
   "cell_type": "code",
   "execution_count": 105,
   "id": "expanded-fundamental",
   "metadata": {},
   "outputs": [],
   "source": [
    "# Drop the the 5 outliers GrLivArea > 4000 sq feet\n",
    "df_new.drop(df_new[(df_new['GrLivArea'] > 4000)].index, inplace = True)"
   ]
  },
  {
   "cell_type": "code",
   "execution_count": 106,
   "id": "attached-candle",
   "metadata": {},
   "outputs": [
    {
     "data": {
      "text/plain": [
       "(2914, 76)"
      ]
     },
     "execution_count": 106,
     "metadata": {},
     "output_type": "execute_result"
    }
   ],
   "source": [
    "df_new.shape"
   ]
  },
  {
   "cell_type": "code",
   "execution_count": 107,
   "id": "processed-antique",
   "metadata": {},
   "outputs": [],
   "source": [
    "# columns broken down by variable types\n",
    "nominal_features = ['MSSubClass', 'MSZoning', 'Street', 'LandContour', 'LotConfig', \n",
    "                   'Neighborhood', 'Condition1', 'Condition2', 'BldgType', 'HouseStyle',\n",
    "                   'RoofStyle', 'RoofMatl', 'Exterior1st', 'Exterior2nd', 'MasVnrType', \n",
    "                   'Foundation', 'Heating', 'CentralAir', 'GarageType',\n",
    "                   'SaleType', 'SaleCondition'] # removed Alley, MiscFeature, \n",
    "\n",
    "ordinal_features = ['LotShape', 'Utilities', 'LandSlope', 'OverallQual', 'OverallCond', \n",
    "                   'ExterQual', 'ExterCond', 'BsmtQual', 'BsmtCond', 'BsmtExposure', \n",
    "                   'BsmtFinType1', 'BsmtFinType2', 'HeatingQC', 'Electrical', 'KitchenQual', \n",
    "                   'Functional', 'FireplaceQu', 'GarageFinish', 'GarageQual', 'GarageCond',\n",
    "                   'PavedDrive'] #removed PoolQC, Fence,\n",
    "\n",
    "\n",
    "numeric_features = ['LotFrontage','LotArea','YearBuilt','YearRemodAdd','MasVnrArea','BsmtFinSF1',\n",
    "                  'BsmtFinSF2', 'BsmtUnfSF','TotalBsmtSF','1stFlrSF','2ndFlrSF','LowQualFinSF','GrLivArea',\n",
    "                  'BsmtFullBath','BsmtHalfBath','FullBath','HalfBath','BedroomAbvGr','KitchenAbvGr', 'TotRmsAbvGrd',\n",
    "                  'Fireplaces','GarageCars','GarageArea','WoodDeckSF','OpenPorchSF','EnclosedPorch',\n",
    "                  '3SsnPorch','ScreenPorch','PoolArea','MiscVal', 'GarageYrBlt', 'YrSold', 'MoSold' , 'SalePrice'] #removed ID, SalePrice is a target "
   ]
  },
  {
   "cell_type": "code",
   "execution_count": 108,
   "id": "nearby-transition",
   "metadata": {},
   "outputs": [],
   "source": [
    "# remove the duplicate rows \n",
    "df_new = df_new.drop_duplicates(subset=nominal_features+ordinal_features+numeric_features)"
   ]
  },
  {
   "cell_type": "code",
   "execution_count": 109,
   "id": "experienced-equivalent",
   "metadata": {},
   "outputs": [
    {
     "data": {
      "text/plain": [
       "(2914, 76)"
      ]
     },
     "execution_count": 109,
     "metadata": {},
     "output_type": "execute_result"
    }
   ],
   "source": [
    "df_new.shape"
   ]
  },
  {
   "cell_type": "code",
   "execution_count": 110,
   "id": "independent-cloud",
   "metadata": {},
   "outputs": [],
   "source": [
    "# Ordinal Category Values\n",
    "lot_shape = ['IR3','IR2','IR1','Reg']\n",
    "utilities = ['ELO', 'NoSeWa', 'NoSewr','AllPub']\n",
    "land_slope = ['Sev','Mod','Gtl']\n",
    "overall_qual = [1, 2, 3, 4, 5, 6, 7, 8, 9, 10]  # already in the ordinal structure\n",
    "overall_cond = [1, 2, 3, 4, 5, 6, 7, 8, 9, 10]  # already in the ordinal structure\n",
    "exter_qual = ['Po', 'Fa', 'TA', 'Gd', 'Ex']\n",
    "exter_cond = ['Po', 'Fa', 'TA', 'Gd', 'Ex']\n",
    "bsmt_qual  = ['NA', 'Po', 'Fa', 'TA', 'Gd', 'Ex']\n",
    "bsmt_cond  = ['NA', 'Po', 'Fa', 'TA', 'Gd', 'Ex']\n",
    "bsmt_exposure  = ['NA', 'No', 'Mn', 'Av', 'Gd']\n",
    "bsmt_fin_type1 = ['NA', 'Unf', 'LwQ', 'Rec', 'BLQ', 'ALQ', 'GLQ']\n",
    "bsmt_fin_type2 = ['NA', 'Unf', 'LwQ', 'Rec', 'BLQ', 'ALQ', 'GLQ']\n",
    "heating_qual = ['Po', 'Fa', 'TA', 'Gd', 'Ex']\n",
    "electrical = ['Mix', 'FuseP', 'FuseF', 'FuseA', 'SBrkr']\n",
    "kitchen_qual = ['Po', 'Fa', 'TA', 'Gd', 'Ex']\n",
    "functional = ['Sal', 'Sev', 'Maj2', 'Maj1', 'Mod', 'Min2', 'Min1', 'Typ']\n",
    "fire_place_qual = ['NA', 'Po', 'Fa', 'TA', 'Gd', 'Ex']\n",
    "garage_finish = ['NA', 'Unf', 'RFn', 'Fin']\n",
    "garage_qual = ['NA', 'Po', 'Fa', 'TA', 'Gd', 'Ex']\n",
    "garage_cond = ['NA', 'Po', 'Fa', 'TA', 'Gd', 'Ex']\n",
    "paved_drive = ['N', 'P', 'Y']\n",
    "#pool_qc = ['NA', 'Fa', 'TA', 'Gd', 'Ex'] \n",
    "#fence = ['NA', 'MnWw', 'GdWo', 'MnPrv', 'GdPrv']\n",
    "\n",
    "ordinal_categories_list = [lot_shape , utilities, land_slope, overall_qual, overall_cond, exter_qual, exter_cond, bsmt_qual, \n",
    "                          bsmt_cond, bsmt_exposure, bsmt_fin_type1, bsmt_fin_type2, heating_qual, electrical, kitchen_qual,\n",
    "                          functional, fire_place_qual, garage_finish, garage_qual, garage_cond, paved_drive]  "
   ]
  },
  {
   "cell_type": "code",
   "execution_count": 111,
   "id": "intimate-jewelry",
   "metadata": {},
   "outputs": [],
   "source": [
    "def impute_missing_val_df (df, nominal_features, ordinal_features, numeric_features):\n",
    "    ''' Imputes the continious columns with mean and categorical columns (which has less than 80% missingness) with the most frequent value'''\n",
    "    imputer_con = SimpleImputer(missing_values=np.nan, strategy='mean')\n",
    "    imputer_cat = SimpleImputer(missing_values=np.nan, strategy='most_frequent')\n",
    "    for col in df.columns:\n",
    "        if df[col].isnull().sum() > 0:    \n",
    "            if col in nominal_features + ordinal_features:\n",
    "                df[col] = imputer_cat.fit_transform(df[col].values.reshape(-1,1))\n",
    "            else:            \n",
    "                df[col] = imputer_con.fit_transform(df[col].values.reshape(-1,1))\n",
    "    return df      "
   ]
  },
  {
   "cell_type": "code",
   "execution_count": 112,
   "id": "whole-process",
   "metadata": {},
   "outputs": [],
   "source": [
    "df_imputed = impute_missing_val_df (df_new, nominal_features, ordinal_features, numeric_features)"
   ]
  },
  {
   "cell_type": "code",
   "execution_count": 113,
   "id": "cardiac-child",
   "metadata": {},
   "outputs": [
    {
     "data": {
      "text/plain": [
       "(2914, 76)"
      ]
     },
     "execution_count": 113,
     "metadata": {},
     "output_type": "execute_result"
    }
   ],
   "source": [
    "df_imputed.shape"
   ]
  },
  {
   "cell_type": "code",
   "execution_count": 114,
   "id": "complicated-separation",
   "metadata": {},
   "outputs": [],
   "source": [
    "#One Hot Encoding for Nominal Features\n",
    "ohe = OneHotEncoder(sparse = False)\n",
    "T=ohe.fit_transform(df_imputed[nominal_features])\n",
    "#T"
   ]
  },
  {
   "cell_type": "code",
   "execution_count": 115,
   "id": "wound-actress",
   "metadata": {},
   "outputs": [],
   "source": [
    "nominal_feature_names = ohe.get_feature_names(nominal_features)"
   ]
  },
  {
   "cell_type": "code",
   "execution_count": 175,
   "id": "expanded-dollar",
   "metadata": {},
   "outputs": [
    {
     "data": {
      "text/plain": [
       "array(['MSSubClass_20', 'MSSubClass_30', 'MSSubClass_40', 'MSSubClass_45',\n",
       "       'MSSubClass_50', 'MSSubClass_60', 'MSSubClass_70', 'MSSubClass_75',\n",
       "       'MSSubClass_80', 'MSSubClass_85', 'MSSubClass_90',\n",
       "       'MSSubClass_120', 'MSSubClass_150', 'MSSubClass_160',\n",
       "       'MSSubClass_180', 'MSSubClass_190', 'MSZoning_C (all)',\n",
       "       'MSZoning_FV', 'MSZoning_RH', 'MSZoning_RL', 'MSZoning_RM',\n",
       "       'Street_Grvl', 'Street_Pave', 'LandContour_Bnk', 'LandContour_HLS',\n",
       "       'LandContour_Low', 'LandContour_Lvl', 'LotConfig_Corner',\n",
       "       'LotConfig_CulDSac', 'LotConfig_FR2', 'LotConfig_FR3',\n",
       "       'LotConfig_Inside', 'Neighborhood_Blmngtn', 'Neighborhood_Blueste',\n",
       "       'Neighborhood_BrDale', 'Neighborhood_BrkSide',\n",
       "       'Neighborhood_ClearCr', 'Neighborhood_CollgCr',\n",
       "       'Neighborhood_Crawfor', 'Neighborhood_Edwards',\n",
       "       'Neighborhood_Gilbert', 'Neighborhood_IDOTRR',\n",
       "       'Neighborhood_MeadowV', 'Neighborhood_Mitchel',\n",
       "       'Neighborhood_NAmes', 'Neighborhood_NPkVill',\n",
       "       'Neighborhood_NWAmes', 'Neighborhood_NoRidge',\n",
       "       'Neighborhood_NridgHt', 'Neighborhood_OldTown',\n",
       "       'Neighborhood_SWISU', 'Neighborhood_Sawyer',\n",
       "       'Neighborhood_SawyerW', 'Neighborhood_Somerst',\n",
       "       'Neighborhood_StoneBr', 'Neighborhood_Timber',\n",
       "       'Neighborhood_Veenker', 'Condition1_Artery', 'Condition1_Feedr',\n",
       "       'Condition1_Norm', 'Condition1_PosA', 'Condition1_PosN',\n",
       "       'Condition1_RRAe', 'Condition1_RRAn', 'Condition1_RRNe',\n",
       "       'Condition1_RRNn', 'Condition2_Artery', 'Condition2_Feedr',\n",
       "       'Condition2_Norm', 'Condition2_PosA', 'Condition2_PosN',\n",
       "       'Condition2_RRAe', 'Condition2_RRAn', 'Condition2_RRNn',\n",
       "       'BldgType_1Fam', 'BldgType_2fmCon', 'BldgType_Duplex',\n",
       "       'BldgType_Twnhs', 'BldgType_TwnhsE', 'HouseStyle_1.5Fin',\n",
       "       'HouseStyle_1.5Unf', 'HouseStyle_1Story', 'HouseStyle_2.5Fin',\n",
       "       'HouseStyle_2.5Unf', 'HouseStyle_2Story', 'HouseStyle_SFoyer',\n",
       "       'HouseStyle_SLvl', 'RoofStyle_Flat', 'RoofStyle_Gable',\n",
       "       'RoofStyle_Gambrel', 'RoofStyle_Hip', 'RoofStyle_Mansard',\n",
       "       'RoofStyle_Shed', 'RoofMatl_CompShg', 'RoofMatl_Membran',\n",
       "       'RoofMatl_Metal', 'RoofMatl_Roll', 'RoofMatl_Tar&Grv',\n",
       "       'RoofMatl_WdShake', 'RoofMatl_WdShngl', 'Exterior1st_AsbShng',\n",
       "       'Exterior1st_AsphShn', 'Exterior1st_BrkComm',\n",
       "       'Exterior1st_BrkFace', 'Exterior1st_CBlock', 'Exterior1st_CemntBd',\n",
       "       'Exterior1st_HdBoard', 'Exterior1st_ImStucc',\n",
       "       'Exterior1st_MetalSd', 'Exterior1st_Plywood', 'Exterior1st_Stone',\n",
       "       'Exterior1st_Stucco', 'Exterior1st_VinylSd', 'Exterior1st_Wd Sdng',\n",
       "       'Exterior1st_WdShing', 'Exterior2nd_AsbShng',\n",
       "       'Exterior2nd_AsphShn', 'Exterior2nd_Brk Cmn',\n",
       "       'Exterior2nd_BrkFace', 'Exterior2nd_CBlock', 'Exterior2nd_CmentBd',\n",
       "       'Exterior2nd_HdBoard', 'Exterior2nd_ImStucc',\n",
       "       'Exterior2nd_MetalSd', 'Exterior2nd_Other', 'Exterior2nd_Plywood',\n",
       "       'Exterior2nd_Stone', 'Exterior2nd_Stucco', 'Exterior2nd_VinylSd',\n",
       "       'Exterior2nd_Wd Sdng', 'Exterior2nd_Wd Shng', 'MasVnrType_BrkCmn',\n",
       "       'MasVnrType_BrkFace', 'MasVnrType_None', 'MasVnrType_Stone',\n",
       "       'Foundation_BrkTil', 'Foundation_CBlock', 'Foundation_PConc',\n",
       "       'Foundation_Slab', 'Foundation_Stone', 'Foundation_Wood',\n",
       "       'Heating_Floor', 'Heating_GasA', 'Heating_GasW', 'Heating_Grav',\n",
       "       'Heating_OthW', 'Heating_Wall', 'CentralAir_N', 'CentralAir_Y',\n",
       "       'GarageType_2Types', 'GarageType_Attchd', 'GarageType_Basment',\n",
       "       'GarageType_BuiltIn', 'GarageType_CarPort', 'GarageType_Detchd',\n",
       "       'SaleType_COD', 'SaleType_CWD', 'SaleType_Con', 'SaleType_ConLD',\n",
       "       'SaleType_ConLI', 'SaleType_ConLw', 'SaleType_New', 'SaleType_Oth',\n",
       "       'SaleType_WD', 'SaleCondition_Abnorml', 'SaleCondition_AdjLand',\n",
       "       'SaleCondition_Alloca', 'SaleCondition_Family',\n",
       "       'SaleCondition_Normal', 'SaleCondition_Partial'], dtype=object)"
      ]
     },
     "execution_count": 175,
     "metadata": {},
     "output_type": "execute_result"
    }
   ],
   "source": [
    "nominal_feature_names  # nominal cateogy levels one-hot encoded"
   ]
  },
  {
   "cell_type": "code",
   "execution_count": 117,
   "id": "accurate-marketplace",
   "metadata": {},
   "outputs": [],
   "source": [
    "# Ordinal Encoding Ordinal Features\n",
    "ore = OrdinalEncoder(categories=ordinal_categories_list)\n",
    "Z = ore.fit_transform(df_imputed[ordinal_features])\n",
    "#Z"
   ]
  },
  {
   "cell_type": "code",
   "execution_count": 176,
   "id": "collective-reasoning",
   "metadata": {},
   "outputs": [
    {
     "data": {
      "text/plain": [
       "[array(['IR3', 'IR2', 'IR1', 'Reg'], dtype=object),\n",
       " array(['ELO', 'NoSeWa', 'NoSewr', 'AllPub'], dtype=object),\n",
       " array(['Sev', 'Mod', 'Gtl'], dtype=object),\n",
       " array([ 1,  2,  3,  4,  5,  6,  7,  8,  9, 10]),\n",
       " array([ 1,  2,  3,  4,  5,  6,  7,  8,  9, 10]),\n",
       " array(['Po', 'Fa', 'TA', 'Gd', 'Ex'], dtype=object),\n",
       " array(['Po', 'Fa', 'TA', 'Gd', 'Ex'], dtype=object),\n",
       " array(['NA', 'Po', 'Fa', 'TA', 'Gd', 'Ex'], dtype=object),\n",
       " array(['NA', 'Po', 'Fa', 'TA', 'Gd', 'Ex'], dtype=object),\n",
       " array(['NA', 'No', 'Mn', 'Av', 'Gd'], dtype=object),\n",
       " array(['NA', 'Unf', 'LwQ', 'Rec', 'BLQ', 'ALQ', 'GLQ'], dtype=object),\n",
       " array(['NA', 'Unf', 'LwQ', 'Rec', 'BLQ', 'ALQ', 'GLQ'], dtype=object),\n",
       " array(['Po', 'Fa', 'TA', 'Gd', 'Ex'], dtype=object),\n",
       " array(['Mix', 'FuseP', 'FuseF', 'FuseA', 'SBrkr'], dtype=object),\n",
       " array(['Po', 'Fa', 'TA', 'Gd', 'Ex'], dtype=object),\n",
       " array(['Sal', 'Sev', 'Maj2', 'Maj1', 'Mod', 'Min2', 'Min1', 'Typ'],\n",
       "       dtype=object),\n",
       " array(['NA', 'Po', 'Fa', 'TA', 'Gd', 'Ex'], dtype=object),\n",
       " array(['NA', 'Unf', 'RFn', 'Fin'], dtype=object),\n",
       " array(['NA', 'Po', 'Fa', 'TA', 'Gd', 'Ex'], dtype=object),\n",
       " array(['NA', 'Po', 'Fa', 'TA', 'Gd', 'Ex'], dtype=object),\n",
       " array(['N', 'P', 'Y'], dtype=object)]"
      ]
     },
     "execution_count": 176,
     "metadata": {},
     "output_type": "execute_result"
    }
   ],
   "source": [
    "ore.categories_ #ordinal category levels"
   ]
  },
  {
   "cell_type": "code",
   "execution_count": 119,
   "id": "elect-victorian",
   "metadata": {},
   "outputs": [],
   "source": [
    "list=[pd.DataFrame(T,columns=nominal_feature_names).reset_index(drop=True), \n",
    "                pd.DataFrame(Z,columns=ordinal_features).reset_index(drop=True), df_imputed[numeric_features].reset_index(drop=True)]"
   ]
  },
  {
   "cell_type": "code",
   "execution_count": 120,
   "id": "northern-attendance",
   "metadata": {},
   "outputs": [],
   "source": [
    "df_encoded = pd.concat(list, axis=1)"
   ]
  },
  {
   "cell_type": "code",
   "execution_count": 121,
   "id": "chinese-bible",
   "metadata": {},
   "outputs": [
    {
     "data": {
      "text/plain": [
       "(2914, 225)"
      ]
     },
     "execution_count": 121,
     "metadata": {},
     "output_type": "execute_result"
    }
   ],
   "source": [
    "df_encoded.shape"
   ]
  },
  {
   "cell_type": "code",
   "execution_count": 122,
   "id": "hispanic-fantasy",
   "metadata": {},
   "outputs": [
    {
     "data": {
      "text/html": [
       "<div>\n",
       "<style scoped>\n",
       "    .dataframe tbody tr th:only-of-type {\n",
       "        vertical-align: middle;\n",
       "    }\n",
       "\n",
       "    .dataframe tbody tr th {\n",
       "        vertical-align: top;\n",
       "    }\n",
       "\n",
       "    .dataframe thead th {\n",
       "        text-align: right;\n",
       "    }\n",
       "</style>\n",
       "<table border=\"1\" class=\"dataframe\">\n",
       "  <thead>\n",
       "    <tr style=\"text-align: right;\">\n",
       "      <th></th>\n",
       "      <th>MSSubClass_20</th>\n",
       "      <th>MSSubClass_30</th>\n",
       "      <th>MSSubClass_40</th>\n",
       "      <th>MSSubClass_45</th>\n",
       "      <th>MSSubClass_50</th>\n",
       "      <th>MSSubClass_60</th>\n",
       "      <th>MSSubClass_70</th>\n",
       "      <th>MSSubClass_75</th>\n",
       "      <th>MSSubClass_80</th>\n",
       "      <th>MSSubClass_85</th>\n",
       "      <th>...</th>\n",
       "      <th>OpenPorchSF</th>\n",
       "      <th>EnclosedPorch</th>\n",
       "      <th>3SsnPorch</th>\n",
       "      <th>ScreenPorch</th>\n",
       "      <th>PoolArea</th>\n",
       "      <th>MiscVal</th>\n",
       "      <th>GarageYrBlt</th>\n",
       "      <th>YrSold</th>\n",
       "      <th>MoSold</th>\n",
       "      <th>SalePrice</th>\n",
       "    </tr>\n",
       "  </thead>\n",
       "  <tbody>\n",
       "    <tr>\n",
       "      <th>0</th>\n",
       "      <td>0.0</td>\n",
       "      <td>0.0</td>\n",
       "      <td>0.0</td>\n",
       "      <td>0.0</td>\n",
       "      <td>0.0</td>\n",
       "      <td>1.0</td>\n",
       "      <td>0.0</td>\n",
       "      <td>0.0</td>\n",
       "      <td>0.0</td>\n",
       "      <td>0.0</td>\n",
       "      <td>...</td>\n",
       "      <td>61</td>\n",
       "      <td>0</td>\n",
       "      <td>0</td>\n",
       "      <td>0</td>\n",
       "      <td>0</td>\n",
       "      <td>0</td>\n",
       "      <td>2003.0</td>\n",
       "      <td>2008</td>\n",
       "      <td>2</td>\n",
       "      <td>208500.0</td>\n",
       "    </tr>\n",
       "    <tr>\n",
       "      <th>1</th>\n",
       "      <td>1.0</td>\n",
       "      <td>0.0</td>\n",
       "      <td>0.0</td>\n",
       "      <td>0.0</td>\n",
       "      <td>0.0</td>\n",
       "      <td>0.0</td>\n",
       "      <td>0.0</td>\n",
       "      <td>0.0</td>\n",
       "      <td>0.0</td>\n",
       "      <td>0.0</td>\n",
       "      <td>...</td>\n",
       "      <td>0</td>\n",
       "      <td>0</td>\n",
       "      <td>0</td>\n",
       "      <td>0</td>\n",
       "      <td>0</td>\n",
       "      <td>0</td>\n",
       "      <td>1976.0</td>\n",
       "      <td>2007</td>\n",
       "      <td>5</td>\n",
       "      <td>181500.0</td>\n",
       "    </tr>\n",
       "    <tr>\n",
       "      <th>2</th>\n",
       "      <td>0.0</td>\n",
       "      <td>0.0</td>\n",
       "      <td>0.0</td>\n",
       "      <td>0.0</td>\n",
       "      <td>0.0</td>\n",
       "      <td>1.0</td>\n",
       "      <td>0.0</td>\n",
       "      <td>0.0</td>\n",
       "      <td>0.0</td>\n",
       "      <td>0.0</td>\n",
       "      <td>...</td>\n",
       "      <td>42</td>\n",
       "      <td>0</td>\n",
       "      <td>0</td>\n",
       "      <td>0</td>\n",
       "      <td>0</td>\n",
       "      <td>0</td>\n",
       "      <td>2001.0</td>\n",
       "      <td>2008</td>\n",
       "      <td>9</td>\n",
       "      <td>223500.0</td>\n",
       "    </tr>\n",
       "    <tr>\n",
       "      <th>3</th>\n",
       "      <td>0.0</td>\n",
       "      <td>0.0</td>\n",
       "      <td>0.0</td>\n",
       "      <td>0.0</td>\n",
       "      <td>0.0</td>\n",
       "      <td>0.0</td>\n",
       "      <td>1.0</td>\n",
       "      <td>0.0</td>\n",
       "      <td>0.0</td>\n",
       "      <td>0.0</td>\n",
       "      <td>...</td>\n",
       "      <td>35</td>\n",
       "      <td>272</td>\n",
       "      <td>0</td>\n",
       "      <td>0</td>\n",
       "      <td>0</td>\n",
       "      <td>0</td>\n",
       "      <td>1998.0</td>\n",
       "      <td>2006</td>\n",
       "      <td>2</td>\n",
       "      <td>140000.0</td>\n",
       "    </tr>\n",
       "    <tr>\n",
       "      <th>4</th>\n",
       "      <td>0.0</td>\n",
       "      <td>0.0</td>\n",
       "      <td>0.0</td>\n",
       "      <td>0.0</td>\n",
       "      <td>0.0</td>\n",
       "      <td>1.0</td>\n",
       "      <td>0.0</td>\n",
       "      <td>0.0</td>\n",
       "      <td>0.0</td>\n",
       "      <td>0.0</td>\n",
       "      <td>...</td>\n",
       "      <td>84</td>\n",
       "      <td>0</td>\n",
       "      <td>0</td>\n",
       "      <td>0</td>\n",
       "      <td>0</td>\n",
       "      <td>0</td>\n",
       "      <td>2000.0</td>\n",
       "      <td>2008</td>\n",
       "      <td>12</td>\n",
       "      <td>250000.0</td>\n",
       "    </tr>\n",
       "  </tbody>\n",
       "</table>\n",
       "<p>5 rows × 225 columns</p>\n",
       "</div>"
      ],
      "text/plain": [
       "   MSSubClass_20  MSSubClass_30  MSSubClass_40  MSSubClass_45  MSSubClass_50  \\\n",
       "0            0.0            0.0            0.0            0.0            0.0   \n",
       "1            1.0            0.0            0.0            0.0            0.0   \n",
       "2            0.0            0.0            0.0            0.0            0.0   \n",
       "3            0.0            0.0            0.0            0.0            0.0   \n",
       "4            0.0            0.0            0.0            0.0            0.0   \n",
       "\n",
       "   MSSubClass_60  MSSubClass_70  MSSubClass_75  MSSubClass_80  MSSubClass_85  \\\n",
       "0            1.0            0.0            0.0            0.0            0.0   \n",
       "1            0.0            0.0            0.0            0.0            0.0   \n",
       "2            1.0            0.0            0.0            0.0            0.0   \n",
       "3            0.0            1.0            0.0            0.0            0.0   \n",
       "4            1.0            0.0            0.0            0.0            0.0   \n",
       "\n",
       "   ...  OpenPorchSF  EnclosedPorch  3SsnPorch  ScreenPorch  PoolArea  MiscVal  \\\n",
       "0  ...           61              0          0            0         0        0   \n",
       "1  ...            0              0          0            0         0        0   \n",
       "2  ...           42              0          0            0         0        0   \n",
       "3  ...           35            272          0            0         0        0   \n",
       "4  ...           84              0          0            0         0        0   \n",
       "\n",
       "   GarageYrBlt  YrSold  MoSold  SalePrice  \n",
       "0       2003.0    2008       2   208500.0  \n",
       "1       1976.0    2007       5   181500.0  \n",
       "2       2001.0    2008       9   223500.0  \n",
       "3       1998.0    2006       2   140000.0  \n",
       "4       2000.0    2008      12   250000.0  \n",
       "\n",
       "[5 rows x 225 columns]"
      ]
     },
     "execution_count": 122,
     "metadata": {},
     "output_type": "execute_result"
    }
   ],
   "source": [
    "df_encoded.head()"
   ]
  },
  {
   "cell_type": "code",
   "execution_count": 123,
   "id": "sweet-gateway",
   "metadata": {},
   "outputs": [],
   "source": [
    "X = df_encoded.iloc [:, 0:-1]\n",
    "y = df_encoded.iloc [:,-1]"
   ]
  },
  {
   "cell_type": "code",
   "execution_count": 124,
   "id": "false-motorcycle",
   "metadata": {},
   "outputs": [
    {
     "data": {
      "text/plain": [
       "(2914, 224)"
      ]
     },
     "execution_count": 124,
     "metadata": {},
     "output_type": "execute_result"
    }
   ],
   "source": [
    "X.shape"
   ]
  },
  {
   "cell_type": "code",
   "execution_count": 125,
   "id": "psychological-penetration",
   "metadata": {},
   "outputs": [
    {
     "data": {
      "text/plain": [
       "(2914,)"
      ]
     },
     "execution_count": 125,
     "metadata": {},
     "output_type": "execute_result"
    }
   ],
   "source": [
    "y.shape"
   ]
  },
  {
   "cell_type": "code",
   "execution_count": null,
   "id": "increased-purple",
   "metadata": {},
   "outputs": [],
   "source": [
    "#X_train, X_test, y_train, y_test = train_test_split(X, y, test_size=0.2,random_state=0)"
   ]
  },
  {
   "cell_type": "markdown",
   "id": "regulation-portsmouth",
   "metadata": {},
   "source": [
    "### 1. Correlation Feature Selection, SelectKBest "
   ]
  },
  {
   "cell_type": "code",
   "execution_count": 150,
   "id": "facial-campbell",
   "metadata": {},
   "outputs": [],
   "source": [
    "fs = SelectKBest(score_func=f_regression, k = 30) # Select 30 most important features"
   ]
  },
  {
   "cell_type": "code",
   "execution_count": 151,
   "id": "continuing-swing",
   "metadata": {},
   "outputs": [],
   "source": [
    "f_bestK = fs.fit(X, y) #use the entire dataset"
   ]
  },
  {
   "cell_type": "code",
   "execution_count": 165,
   "id": "italian-horizon",
   "metadata": {},
   "outputs": [
    {
     "name": "stdout",
     "output_type": "stream",
     "text": [
      "Selected Features: Index(['MSSubClass_60', 'Neighborhood_NridgHt', 'MasVnrType_None',\n",
      "       'Foundation_PConc', 'GarageType_Detchd', 'SaleType_New',\n",
      "       'SaleCondition_Partial', 'OverallQual', 'ExterQual', 'BsmtQual',\n",
      "       'BsmtExposure', 'HeatingQC', 'KitchenQual', 'GarageFinish',\n",
      "       'LotFrontage', 'LotArea', 'YearBuilt', 'YearRemodAdd', 'MasVnrArea',\n",
      "       'BsmtFinSF1', 'TotalBsmtSF', '1stFlrSF', '2ndFlrSF', 'GrLivArea',\n",
      "       'FullBath', 'TotRmsAbvGrd', 'Fireplaces', 'GarageCars', 'GarageArea',\n",
      "       'GarageYrBlt'],\n",
      "      dtype='object')\n"
     ]
    }
   ],
   "source": [
    "#for i in range(len(f_bestK.scores_)):\n",
    "#    print('Feature %s: %f' % (X.columns[i], f_bestK.scores_[i]))\n",
    "print (\"Selected Features: %s\" % X.columns[f_bestK.get_support()]) # Top 30 important Features"
   ]
  },
  {
   "cell_type": "code",
   "execution_count": null,
   "id": "injured-gathering",
   "metadata": {},
   "outputs": [],
   "source": [
    "#features_train = fit.transform(X_train) # reduce the feature matrix to the important ones"
   ]
  },
  {
   "cell_type": "code",
   "execution_count": null,
   "id": "thick-clark",
   "metadata": {},
   "outputs": [],
   "source": [
    "#features_test = fit.transform(X_test)"
   ]
  },
  {
   "cell_type": "markdown",
   "id": "directed-leeds",
   "metadata": {},
   "source": [
    "### 2. Mutual Information Statistics Feature Selection, SelectKBest"
   ]
  },
  {
   "cell_type": "code",
   "execution_count": 154,
   "id": "spanish-blend",
   "metadata": {},
   "outputs": [],
   "source": [
    "mi = SelectKBest(score_func = mutual_info_regression, k=30)"
   ]
  },
  {
   "cell_type": "code",
   "execution_count": 155,
   "id": "stock-texture",
   "metadata": {},
   "outputs": [],
   "source": [
    "mi_bestK = mi.fit(X, y)"
   ]
  },
  {
   "cell_type": "code",
   "execution_count": 166,
   "id": "revolutionary-donna",
   "metadata": {},
   "outputs": [
    {
     "name": "stdout",
     "output_type": "stream",
     "text": [
      "Selected Features: Index(['MSSubClass_60', 'Foundation_PConc', 'GarageType_Detchd',\n",
      "       'SaleType_New', 'OverallQual', 'ExterQual', 'BsmtQual', 'BsmtFinType1',\n",
      "       'HeatingQC', 'KitchenQual', 'GarageFinish', 'LotFrontage', 'LotArea',\n",
      "       'YearBuilt', 'YearRemodAdd', 'MasVnrArea', 'BsmtFinSF1', 'TotalBsmtSF',\n",
      "       '1stFlrSF', '2ndFlrSF', 'GrLivArea', 'FullBath', 'BedroomAbvGr',\n",
      "       'TotRmsAbvGrd', 'Fireplaces', 'GarageCars', 'GarageArea', 'WoodDeckSF',\n",
      "       'OpenPorchSF', 'GarageYrBlt'],\n",
      "      dtype='object')\n"
     ]
    }
   ],
   "source": [
    "#for i in range(len(mi_bestK.scores_)):\n",
    "#     print('Feature %s: %f' % (X.columns[i], mi_bestK.scores_[i]))\n",
    "print (\"Selected Features: %s\" % X.columns[mi_bestK.get_support()])"
   ]
  },
  {
   "cell_type": "markdown",
   "id": "patent-graham",
   "metadata": {},
   "source": [
    "### 3a. Recursive Feature Elimination with LightGBM"
   ]
  },
  {
   "cell_type": "code",
   "execution_count": 157,
   "id": "closing-insulation",
   "metadata": {},
   "outputs": [],
   "source": [
    "model = LGBMRegressor(random_state=1)"
   ]
  },
  {
   "cell_type": "code",
   "execution_count": 158,
   "id": "amino-rebel",
   "metadata": {},
   "outputs": [],
   "source": [
    "rfe = RFE (model, 30)"
   ]
  },
  {
   "cell_type": "code",
   "execution_count": 159,
   "id": "opened-glossary",
   "metadata": {},
   "outputs": [],
   "source": [
    "rfe_lgb = rfe.fit(X, y)"
   ]
  },
  {
   "cell_type": "code",
   "execution_count": 161,
   "id": "continued-bracket",
   "metadata": {},
   "outputs": [
    {
     "name": "stdout",
     "output_type": "stream",
     "text": [
      "Selected Features: Index(['OverallQual', 'OverallCond', 'ExterQual', 'BsmtQual', 'BsmtExposure',\n",
      "       'BsmtFinType1', 'KitchenQual', 'Functional', 'GarageFinish',\n",
      "       'LotFrontage', 'LotArea', 'YearBuilt', 'YearRemodAdd', 'MasVnrArea',\n",
      "       'BsmtFinSF1', 'BsmtUnfSF', 'TotalBsmtSF', '1stFlrSF', '2ndFlrSF',\n",
      "       'GrLivArea', 'BedroomAbvGr', 'TotRmsAbvGrd', 'GarageCars', 'GarageArea',\n",
      "       'WoodDeckSF', 'OpenPorchSF', 'EnclosedPorch', 'GarageYrBlt', 'YrSold',\n",
      "       'MoSold'],\n",
      "      dtype='object')\n"
     ]
    }
   ],
   "source": [
    "#for i in range(len(rfe_lgb.ranking_)):\n",
    "#    print('Feature %s: %f' % (X.columns[i], rfe_lgb.ranking_[i]))\n",
    "print (\"Selected Features: %s\" % X.columns[rfe_lgb.support_])"
   ]
  },
  {
   "cell_type": "markdown",
   "id": "potential-railway",
   "metadata": {},
   "source": [
    "### 3b.Recursive Feature Elimination (RFE) with XGBoost"
   ]
  },
  {
   "cell_type": "code",
   "execution_count": 167,
   "id": "future-trading",
   "metadata": {},
   "outputs": [
    {
     "name": "stdout",
     "output_type": "stream",
     "text": [
      "Selected Features: Index(['MSZoning_C (all)', 'Neighborhood_StoneBr', 'Exterior1st_BrkComm',\n",
      "       'GarageType_CarPort', 'OverallQual', 'KitchenQual', 'Functional',\n",
      "       'FireplaceQu', 'GarageFinish', 'LotFrontage', 'LotArea', 'YearBuilt',\n",
      "       'YearRemodAdd', 'MasVnrArea', 'BsmtFinSF1', 'BsmtUnfSF', 'TotalBsmtSF',\n",
      "       '1stFlrSF', '2ndFlrSF', 'GrLivArea', 'BedroomAbvGr', 'TotRmsAbvGrd',\n",
      "       'Fireplaces', 'GarageArea', 'WoodDeckSF', 'OpenPorchSF', 'ScreenPorch',\n",
      "       'GarageYrBlt', 'YrSold', 'MoSold'],\n",
      "      dtype='object')\n"
     ]
    }
   ],
   "source": [
    "#from sklearn.tree import DecisionTreeRegressor\n",
    "rfe = RFE(estimator=XGBRegressor(), n_features_to_select=30)\n",
    "rfe_xgb = rfe.fit(X,y)\n",
    "# for i in range(X.shape[1]):\n",
    "#     print('Column: %s, Rank: %.3f' % (X.columns[i], rfe_xgb.ranking_[i]))\n",
    "print (\"Selected Features: %s\" % X.columns[rfe_xgb.get_support()])"
   ]
  },
  {
   "cell_type": "markdown",
   "id": "manual-trial",
   "metadata": {},
   "source": [
    "### 4. Sequential Feature Selection - Backward Selection"
   ]
  },
  {
   "cell_type": "code",
   "execution_count": 172,
   "id": "agricultural-silicon",
   "metadata": {},
   "outputs": [
    {
     "name": "stdout",
     "output_type": "stream",
     "text": [
      "Features selected by backward selection: ['OverallQual', 'GarageCond', 'PavedDrive', 'LotFrontage', 'LotArea', 'YearBuilt', 'MasVnrArea', 'BsmtFinSF2', 'BsmtUnfSF', '1stFlrSF', '2ndFlrSF', 'LowQualFinSF', 'BsmtFullBath', 'BsmtHalfBath', 'FullBath', 'HalfBath', 'BedroomAbvGr', 'KitchenAbvGr', 'TotRmsAbvGrd', 'Fireplaces', 'GarageCars', 'OpenPorchSF', 'EnclosedPorch', '3SsnPorch', 'ScreenPorch', 'PoolArea', 'MiscVal', 'GarageYrBlt', 'YrSold', 'MoSold']\n"
     ]
    }
   ],
   "source": [
    "from sklearn.feature_selection import SequentialFeatureSelector\n",
    "from sklearn.neighbors import KNeighborsRegressor\n",
    "knn = KNeighborsRegressor(n_neighbors=3)\n",
    "sfs = SequentialFeatureSelector(knn, direction = 'backward', n_features_to_select=30)\n",
    "back_bestK=sfs.fit(X, y)\n",
    "#for i in range(X_encoded.shape[1]):\n",
    "#    print('Column: %s, Selected: %s' % (X_encoded.columns[i], sfs.support_[i]))\n",
    "print(\"Features selected by backward selection: \"\n",
    "      f\"{X.columns[back_bestK.get_support()].tolist()}\")    "
   ]
  },
  {
   "cell_type": "markdown",
   "id": "neither-vertex",
   "metadata": {},
   "source": [
    "### 5. Sequential Feature Selection - Forward Selection"
   ]
  },
  {
   "cell_type": "code",
   "execution_count": 174,
   "id": "about-tenant",
   "metadata": {},
   "outputs": [
    {
     "name": "stdout",
     "output_type": "stream",
     "text": [
      "Features selected by forward selection: ['MSSubClass_85', 'MSSubClass_150', 'MSSubClass_160', 'MSSubClass_180', 'Street_Grvl', 'Street_Pave', 'LotConfig_FR2', 'Neighborhood_Blmngtn', 'Neighborhood_Blueste', 'Neighborhood_Crawfor', 'Neighborhood_NPkVill', 'Condition1_RRNe', 'Condition2_RRAe', 'Condition2_RRAn', 'Condition2_RRNn', 'HouseStyle_1.5Unf', 'HouseStyle_2.5Fin', 'RoofMatl_Membran', 'RoofMatl_Metal', 'RoofMatl_Roll', 'RoofMatl_WdShake', 'Exterior1st_CBlock', 'Exterior1st_ImStucc', 'Exterior1st_Stone', 'Exterior2nd_CBlock', 'Exterior2nd_Other', 'Exterior2nd_Stone', 'Exterior2nd_Stucco', 'Heating_Floor', 'SaleType_ConLw']\n"
     ]
    }
   ],
   "source": [
    "from sklearn.feature_selection import SequentialFeatureSelector\n",
    "from sklearn.neighbors import KNeighborsRegressor\n",
    "knn = KNeighborsRegressor(n_neighbors=3)\n",
    "forward_bestK = SequentialFeatureSelector(knn, direction = 'forward', n_features_to_select=30)\n",
    "forward_bestK.fit(X, y)\n",
    "#for i in range(X_encoded.shape[1]):\n",
    "#    print('Column: %s, Selected: %s' % (X.columns[i], for_bestK.support_[i]))\n",
    "print(\"Features selected by forward selection: \"\n",
    "      f\"{X.columns[forward_bestK.get_support()].tolist()}\")   "
   ]
  },
  {
   "cell_type": "markdown",
   "id": "reduced-furniture",
   "metadata": {},
   "source": [
    "Despite having different set of important features, some features (i.e., numeric cols) appear as important on all methods."
   ]
  },
  {
   "cell_type": "code",
   "execution_count": null,
   "id": "british-tonight",
   "metadata": {},
   "outputs": [],
   "source": []
  }
 ],
 "metadata": {
  "kernelspec": {
   "display_name": "Python 3",
   "language": "python",
   "name": "python3"
  },
  "language_info": {
   "codemirror_mode": {
    "name": "ipython",
    "version": 3
   },
   "file_extension": ".py",
   "mimetype": "text/x-python",
   "name": "python",
   "nbconvert_exporter": "python",
   "pygments_lexer": "ipython3",
   "version": "3.8.2"
  }
 },
 "nbformat": 4,
 "nbformat_minor": 5
}
