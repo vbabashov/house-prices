{
 "cells": [
  {
   "cell_type": "markdown",
   "id": "distinct-train",
   "metadata": {},
   "source": [
    "# Notebook 2: Feature Selection and Importance Analysis"
   ]
  },
  {
   "cell_type": "markdown",
   "id": "color-tackle",
   "metadata": {},
   "source": [
    "In the Notebook 1, we observed there are many potentially irrelevant features which can decrease the accuracy of the model we build and lead to more overfitting. In this notebook, I'll use several techniques to determine the whether Feature Selection is necessary."
   ]
  },
  {
   "cell_type": "code",
   "execution_count": 40,
   "id": "fancy-restriction",
   "metadata": {},
   "outputs": [],
   "source": [
    "import pandas as pd\n",
    "import math \n",
    "import numpy as np\n",
    "import matplotlib.pyplot as plt\n",
    "import seaborn as sns\n",
    "%matplotlib inline\n",
    "\n",
    "import warnings\n",
    "warnings.filterwarnings('ignore')\n",
    "\n",
    "\n",
    "from sklearn.impute import SimpleImputer\n",
    "from sklearn.pipeline import Pipeline\n",
    "from sklearn.preprocessing import OneHotEncoder\n",
    "from sklearn.preprocessing import OrdinalEncoder\n",
    "\n",
    "from sklearn.feature_selection import SelectFromModel, SelectKBest, f_regression, mutual_info_regression, RFE\n",
    "from sklearn.model_selection import GridSearchCV, RandomizedSearchCV, train_test_split\n",
    "from sklearn.model_selection import cross_val_score \n",
    "from sklearn.metrics import mean_absolute_error, mean_squared_error, r2_score\n",
    "from sklearn.linear_model import LinearRegression, Lasso, Ridge\n",
    "from sklearn.experimental import enable_hist_gradient_boosting\n",
    "from sklearn.ensemble import RandomForestRegressor, HistGradientBoostingRegressor\n",
    "\n",
    "from feature_engine import selection \n",
    "\n",
    "import lightgbm as lgb \n",
    "import xgboost as xgb\n",
    "from xgboost import XGBRegressor\n",
    "from lightgbm import LGBMRegressor\n",
    "\n",
    "\n",
    "#your info here\n",
    "__author__ = \"Vusal Babashov\"\n",
    "__email__ = \"vbabashov@gmail.com\"\n",
    "__website__ = 'https://vbabashov.github.io'"
   ]
  },
  {
   "cell_type": "code",
   "execution_count": 41,
   "id": "fourth-report",
   "metadata": {},
   "outputs": [],
   "source": [
    "#conda update scikit-learn"
   ]
  },
  {
   "cell_type": "code",
   "execution_count": 42,
   "id": "sacred-favorite",
   "metadata": {},
   "outputs": [],
   "source": [
    "#import sklearn\n",
    "#print(sklearn.__version__)"
   ]
  },
  {
   "cell_type": "code",
   "execution_count": 43,
   "id": "floating-threshold",
   "metadata": {},
   "outputs": [],
   "source": [
    "#load the data into a Pandas dataframe\n",
    "file_path = \"/Users/vusalbabashov/Desktop/house-prices/data/\"\n",
    "df_train = pd.read_csv(file_path + \"train.csv\")\n",
    "df_test_feature = pd.read_csv(file_path + \"test.csv\")\n",
    "df_test_target = pd.read_csv(file_path + \"sample_submission.csv\")"
   ]
  },
  {
   "cell_type": "code",
   "execution_count": 44,
   "id": "athletic-entrance",
   "metadata": {},
   "outputs": [],
   "source": [
    "#df_merged = pd.merge(left=df_test_feature.reset_index(), right=df_test_target.reset_index(), on='Id') # merge the test feature and target dataframes\n",
    "df_merged = pd.merge(left=df_test_feature, right=df_test_target, how='inner', on='Id', left_index=False, right_index=False)\n",
    "df_raw = pd.concat([df_train, df_merged]) #concatenate the tran and test dataframes\n",
    "df_new = df_raw.reset_index(drop=True)"
   ]
  },
  {
   "cell_type": "code",
   "execution_count": 45,
   "id": "harmful-bibliography",
   "metadata": {},
   "outputs": [],
   "source": [
    "#From EDA, we know that 'Alley', 'PoolQC', 'Fence', 'MiscFeature' are missing in big proportion, so we'll drop them and 'Id'.\n",
    "df_new.drop(columns = ['Id','Alley', 'PoolQC', 'Fence', 'MiscFeature'], inplace=True)"
   ]
  },
  {
   "cell_type": "code",
   "execution_count": 46,
   "id": "proprietary-supplement",
   "metadata": {},
   "outputs": [
    {
     "data": {
      "text/plain": [
       "(2919, 76)"
      ]
     },
     "execution_count": 46,
     "metadata": {},
     "output_type": "execute_result"
    }
   ],
   "source": [
    "df_new.shape"
   ]
  },
  {
   "cell_type": "code",
   "execution_count": 47,
   "id": "hourly-armor",
   "metadata": {},
   "outputs": [],
   "source": [
    "# Drop the the 5 outliers GrLivArea > 4000 sq feet\n",
    "df_new.drop(df_new[(df_new['GrLivArea'] > 4000)].index, inplace = True)"
   ]
  },
  {
   "cell_type": "code",
   "execution_count": 48,
   "id": "documented-gilbert",
   "metadata": {},
   "outputs": [
    {
     "data": {
      "text/plain": [
       "(2914, 76)"
      ]
     },
     "execution_count": 48,
     "metadata": {},
     "output_type": "execute_result"
    }
   ],
   "source": [
    "df_new.shape"
   ]
  },
  {
   "cell_type": "code",
   "execution_count": 49,
   "id": "fallen-option",
   "metadata": {},
   "outputs": [],
   "source": [
    "# columns broken down by variable types\n",
    "nominal_features = ['MSSubClass', 'MSZoning', 'Street', 'LandContour', 'LotConfig', \n",
    "                   'Neighborhood', 'Condition1', 'Condition2', 'BldgType', 'HouseStyle',\n",
    "                   'RoofStyle', 'RoofMatl', 'Exterior1st', 'Exterior2nd', 'MasVnrType', \n",
    "                   'Foundation', 'Heating', 'CentralAir', 'GarageType', 'MoSold',\n",
    "                   'SaleType', 'SaleCondition'] # removed Alley, MiscFeature, \n",
    "\n",
    "ordinal_features = ['LotShape', 'Utilities', 'LandSlope', 'OverallQual', 'OverallCond', \n",
    "                   'ExterQual', 'ExterCond', 'BsmtQual', 'BsmtCond', 'BsmtExposure', \n",
    "                   'BsmtFinType1', 'BsmtFinType2', 'HeatingQC', 'Electrical', 'KitchenQual', \n",
    "                   'Functional', 'FireplaceQu', 'GarageFinish', 'GarageQual', 'GarageCond',\n",
    "                   'PavedDrive'] #removed PoolQC, Fence,\n",
    "\n",
    "\n",
    "numeric_features = ['LotFrontage','LotArea','YearBuilt','YearRemodAdd','MasVnrArea','BsmtFinSF1',\n",
    "                  'BsmtFinSF2', 'BsmtUnfSF','TotalBsmtSF','1stFlrSF','2ndFlrSF','LowQualFinSF','GrLivArea',\n",
    "                  'BsmtFullBath','BsmtHalfBath','FullBath','HalfBath','BedroomAbvGr','KitchenAbvGr', 'TotRmsAbvGrd',\n",
    "                  'Fireplaces','GarageCars','GarageArea','WoodDeckSF','OpenPorchSF','EnclosedPorch',\n",
    "                  '3SsnPorch','ScreenPorch','PoolArea','MiscVal', 'GarageYrBlt', 'YrSold','SalePrice'] #removed ID, SalePrice is a target "
   ]
  },
  {
   "cell_type": "code",
   "execution_count": 50,
   "id": "headed-roller",
   "metadata": {},
   "outputs": [],
   "source": [
    "# remove the duplicate rows if any\n",
    "df_new = df_new.drop_duplicates(subset=nominal_features+ordinal_features+numeric_features)"
   ]
  },
  {
   "cell_type": "code",
   "execution_count": 51,
   "id": "twenty-poland",
   "metadata": {},
   "outputs": [
    {
     "data": {
      "text/plain": [
       "(2914, 76)"
      ]
     },
     "execution_count": 51,
     "metadata": {},
     "output_type": "execute_result"
    }
   ],
   "source": [
    "df_new.shape"
   ]
  },
  {
   "cell_type": "code",
   "execution_count": 52,
   "id": "suited-cedar",
   "metadata": {},
   "outputs": [],
   "source": [
    "# Ordinal Category Values\n",
    "lot_shape = ['IR3','IR2','IR1','Reg']\n",
    "utilities = ['ELO', 'NoSeWa', 'NoSewr','AllPub']\n",
    "land_slope = ['Sev','Mod','Gtl']\n",
    "overall_qual = [1, 2, 3, 4, 5, 6, 7, 8, 9, 10]  # already in the ordinal structure\n",
    "overall_cond = [1, 2, 3, 4, 5, 6, 7, 8, 9, 10]  # already in the ordinal structure\n",
    "exter_qual = ['Po', 'Fa', 'TA', 'Gd', 'Ex']\n",
    "exter_cond = ['Po', 'Fa', 'TA', 'Gd', 'Ex']\n",
    "bsmt_qual  = ['NA', 'Po', 'Fa', 'TA', 'Gd', 'Ex']\n",
    "bsmt_cond  = ['NA', 'Po', 'Fa', 'TA', 'Gd', 'Ex']\n",
    "bsmt_exposure  = ['NA', 'No', 'Mn', 'Av', 'Gd']\n",
    "bsmt_fin_type1 = ['NA', 'Unf', 'LwQ', 'Rec', 'BLQ', 'ALQ', 'GLQ']\n",
    "bsmt_fin_type2 = ['NA', 'Unf', 'LwQ', 'Rec', 'BLQ', 'ALQ', 'GLQ']\n",
    "heating_qual = ['Po', 'Fa', 'TA', 'Gd', 'Ex']\n",
    "electrical = ['Mix', 'FuseP', 'FuseF', 'FuseA', 'SBrkr']\n",
    "kitchen_qual = ['Po', 'Fa', 'TA', 'Gd', 'Ex']\n",
    "functional = ['Sal', 'Sev', 'Maj2', 'Maj1', 'Mod', 'Min2', 'Min1', 'Typ']\n",
    "fire_place_qual = ['NA', 'Po', 'Fa', 'TA', 'Gd', 'Ex']\n",
    "garage_finish = ['NA', 'Unf', 'RFn', 'Fin']\n",
    "garage_qual = ['NA', 'Po', 'Fa', 'TA', 'Gd', 'Ex']\n",
    "garage_cond = ['NA', 'Po', 'Fa', 'TA', 'Gd', 'Ex']\n",
    "paved_drive = ['N', 'P', 'Y']\n",
    "#pool_qc = ['NA', 'Fa', 'TA', 'Gd', 'Ex'] \n",
    "#fence = ['NA', 'MnWw', 'GdWo', 'MnPrv', 'GdPrv']\n",
    "\n",
    "ordinal_categories_list = [lot_shape , utilities, land_slope, overall_qual, overall_cond, exter_qual, exter_cond, bsmt_qual, \n",
    "                          bsmt_cond, bsmt_exposure, bsmt_fin_type1, bsmt_fin_type2, heating_qual, electrical, kitchen_qual,\n",
    "                          functional, fire_place_qual, garage_finish, garage_qual, garage_cond, paved_drive]  "
   ]
  },
  {
   "cell_type": "code",
   "execution_count": 53,
   "id": "stupid-allowance",
   "metadata": {},
   "outputs": [],
   "source": [
    "def impute_missing_val_df (df, nominal_features, ordinal_features, numeric_features):\n",
    "    ''' Imputes the continious columns with mean and categorical columns (which has less than 80% missingness) with the most frequent value'''\n",
    "    imputer_con = SimpleImputer(missing_values=np.nan, strategy='median')\n",
    "    imputer_cat = SimpleImputer(missing_values=np.nan, strategy='most_frequent')\n",
    "    for col in df.columns:\n",
    "        if df[col].isnull().sum() > 0:    \n",
    "            if col in nominal_features + ordinal_features:\n",
    "                df[col] = imputer_cat.fit_transform(df[col].values.reshape(-1,1))\n",
    "            else:            \n",
    "                df[col] = imputer_con.fit_transform(df[col].values.reshape(-1,1))\n",
    "    return df      "
   ]
  },
  {
   "cell_type": "code",
   "execution_count": null,
   "id": "elegant-paste",
   "metadata": {},
   "outputs": [],
   "source": []
  },
  {
   "cell_type": "code",
   "execution_count": 54,
   "id": "friendly-queens",
   "metadata": {},
   "outputs": [],
   "source": [
    "df_imputed = impute_missing_val_df (df_new, nominal_features, ordinal_features, numeric_features)"
   ]
  },
  {
   "cell_type": "code",
   "execution_count": 64,
   "id": "immune-spending",
   "metadata": {},
   "outputs": [],
   "source": [
    "df_imputed[nominal_features+ordinal_features] = df_imputed[nominal_features+ordinal_features].astype('category')\n",
    "df_imputed[numeric_features] = df_imputed[numeric_features].astype('float')"
   ]
  },
  {
   "cell_type": "code",
   "execution_count": 65,
   "id": "agreed-words",
   "metadata": {},
   "outputs": [
    {
     "data": {
      "text/plain": [
       "(2914, 76)"
      ]
     },
     "execution_count": 65,
     "metadata": {},
     "output_type": "execute_result"
    }
   ],
   "source": [
    "df_imputed.shape"
   ]
  },
  {
   "cell_type": "code",
   "execution_count": 66,
   "id": "legitimate-compiler",
   "metadata": {},
   "outputs": [
    {
     "data": {
      "text/html": [
       "<div>\n",
       "<style scoped>\n",
       "    .dataframe tbody tr th:only-of-type {\n",
       "        vertical-align: middle;\n",
       "    }\n",
       "\n",
       "    .dataframe tbody tr th {\n",
       "        vertical-align: top;\n",
       "    }\n",
       "\n",
       "    .dataframe thead th {\n",
       "        text-align: right;\n",
       "    }\n",
       "</style>\n",
       "<table border=\"1\" class=\"dataframe\">\n",
       "  <thead>\n",
       "    <tr style=\"text-align: right;\">\n",
       "      <th></th>\n",
       "      <th>MSSubClass</th>\n",
       "      <th>MSZoning</th>\n",
       "      <th>LotFrontage</th>\n",
       "      <th>LotArea</th>\n",
       "      <th>Street</th>\n",
       "      <th>LotShape</th>\n",
       "      <th>LandContour</th>\n",
       "      <th>Utilities</th>\n",
       "      <th>LotConfig</th>\n",
       "      <th>LandSlope</th>\n",
       "      <th>...</th>\n",
       "      <th>EnclosedPorch</th>\n",
       "      <th>3SsnPorch</th>\n",
       "      <th>ScreenPorch</th>\n",
       "      <th>PoolArea</th>\n",
       "      <th>MiscVal</th>\n",
       "      <th>MoSold</th>\n",
       "      <th>YrSold</th>\n",
       "      <th>SaleType</th>\n",
       "      <th>SaleCondition</th>\n",
       "      <th>SalePrice</th>\n",
       "    </tr>\n",
       "  </thead>\n",
       "  <tbody>\n",
       "    <tr>\n",
       "      <th>0</th>\n",
       "      <td>60</td>\n",
       "      <td>RL</td>\n",
       "      <td>65.0</td>\n",
       "      <td>8450.0</td>\n",
       "      <td>Pave</td>\n",
       "      <td>Reg</td>\n",
       "      <td>Lvl</td>\n",
       "      <td>AllPub</td>\n",
       "      <td>Inside</td>\n",
       "      <td>Gtl</td>\n",
       "      <td>...</td>\n",
       "      <td>0.0</td>\n",
       "      <td>0.0</td>\n",
       "      <td>0.0</td>\n",
       "      <td>0.0</td>\n",
       "      <td>0.0</td>\n",
       "      <td>2</td>\n",
       "      <td>2008.0</td>\n",
       "      <td>WD</td>\n",
       "      <td>Normal</td>\n",
       "      <td>208500.0</td>\n",
       "    </tr>\n",
       "    <tr>\n",
       "      <th>1</th>\n",
       "      <td>20</td>\n",
       "      <td>RL</td>\n",
       "      <td>80.0</td>\n",
       "      <td>9600.0</td>\n",
       "      <td>Pave</td>\n",
       "      <td>Reg</td>\n",
       "      <td>Lvl</td>\n",
       "      <td>AllPub</td>\n",
       "      <td>FR2</td>\n",
       "      <td>Gtl</td>\n",
       "      <td>...</td>\n",
       "      <td>0.0</td>\n",
       "      <td>0.0</td>\n",
       "      <td>0.0</td>\n",
       "      <td>0.0</td>\n",
       "      <td>0.0</td>\n",
       "      <td>5</td>\n",
       "      <td>2007.0</td>\n",
       "      <td>WD</td>\n",
       "      <td>Normal</td>\n",
       "      <td>181500.0</td>\n",
       "    </tr>\n",
       "    <tr>\n",
       "      <th>2</th>\n",
       "      <td>60</td>\n",
       "      <td>RL</td>\n",
       "      <td>68.0</td>\n",
       "      <td>11250.0</td>\n",
       "      <td>Pave</td>\n",
       "      <td>IR1</td>\n",
       "      <td>Lvl</td>\n",
       "      <td>AllPub</td>\n",
       "      <td>Inside</td>\n",
       "      <td>Gtl</td>\n",
       "      <td>...</td>\n",
       "      <td>0.0</td>\n",
       "      <td>0.0</td>\n",
       "      <td>0.0</td>\n",
       "      <td>0.0</td>\n",
       "      <td>0.0</td>\n",
       "      <td>9</td>\n",
       "      <td>2008.0</td>\n",
       "      <td>WD</td>\n",
       "      <td>Normal</td>\n",
       "      <td>223500.0</td>\n",
       "    </tr>\n",
       "    <tr>\n",
       "      <th>3</th>\n",
       "      <td>70</td>\n",
       "      <td>RL</td>\n",
       "      <td>60.0</td>\n",
       "      <td>9550.0</td>\n",
       "      <td>Pave</td>\n",
       "      <td>IR1</td>\n",
       "      <td>Lvl</td>\n",
       "      <td>AllPub</td>\n",
       "      <td>Corner</td>\n",
       "      <td>Gtl</td>\n",
       "      <td>...</td>\n",
       "      <td>272.0</td>\n",
       "      <td>0.0</td>\n",
       "      <td>0.0</td>\n",
       "      <td>0.0</td>\n",
       "      <td>0.0</td>\n",
       "      <td>2</td>\n",
       "      <td>2006.0</td>\n",
       "      <td>WD</td>\n",
       "      <td>Abnorml</td>\n",
       "      <td>140000.0</td>\n",
       "    </tr>\n",
       "    <tr>\n",
       "      <th>4</th>\n",
       "      <td>60</td>\n",
       "      <td>RL</td>\n",
       "      <td>84.0</td>\n",
       "      <td>14260.0</td>\n",
       "      <td>Pave</td>\n",
       "      <td>IR1</td>\n",
       "      <td>Lvl</td>\n",
       "      <td>AllPub</td>\n",
       "      <td>FR2</td>\n",
       "      <td>Gtl</td>\n",
       "      <td>...</td>\n",
       "      <td>0.0</td>\n",
       "      <td>0.0</td>\n",
       "      <td>0.0</td>\n",
       "      <td>0.0</td>\n",
       "      <td>0.0</td>\n",
       "      <td>12</td>\n",
       "      <td>2008.0</td>\n",
       "      <td>WD</td>\n",
       "      <td>Normal</td>\n",
       "      <td>250000.0</td>\n",
       "    </tr>\n",
       "  </tbody>\n",
       "</table>\n",
       "<p>5 rows × 76 columns</p>\n",
       "</div>"
      ],
      "text/plain": [
       "  MSSubClass MSZoning  LotFrontage  LotArea Street LotShape LandContour  \\\n",
       "0         60       RL         65.0   8450.0   Pave      Reg         Lvl   \n",
       "1         20       RL         80.0   9600.0   Pave      Reg         Lvl   \n",
       "2         60       RL         68.0  11250.0   Pave      IR1         Lvl   \n",
       "3         70       RL         60.0   9550.0   Pave      IR1         Lvl   \n",
       "4         60       RL         84.0  14260.0   Pave      IR1         Lvl   \n",
       "\n",
       "  Utilities LotConfig LandSlope  ... EnclosedPorch 3SsnPorch ScreenPorch  \\\n",
       "0    AllPub    Inside       Gtl  ...           0.0       0.0         0.0   \n",
       "1    AllPub       FR2       Gtl  ...           0.0       0.0         0.0   \n",
       "2    AllPub    Inside       Gtl  ...           0.0       0.0         0.0   \n",
       "3    AllPub    Corner       Gtl  ...         272.0       0.0         0.0   \n",
       "4    AllPub       FR2       Gtl  ...           0.0       0.0         0.0   \n",
       "\n",
       "  PoolArea MiscVal MoSold  YrSold  SaleType  SaleCondition SalePrice  \n",
       "0      0.0     0.0      2  2008.0        WD         Normal  208500.0  \n",
       "1      0.0     0.0      5  2007.0        WD         Normal  181500.0  \n",
       "2      0.0     0.0      9  2008.0        WD         Normal  223500.0  \n",
       "3      0.0     0.0      2  2006.0        WD        Abnorml  140000.0  \n",
       "4      0.0     0.0     12  2008.0        WD         Normal  250000.0  \n",
       "\n",
       "[5 rows x 76 columns]"
      ]
     },
     "execution_count": 66,
     "metadata": {},
     "output_type": "execute_result"
    }
   ],
   "source": [
    "df_imputed.head()"
   ]
  },
  {
   "cell_type": "code",
   "execution_count": 57,
   "id": "combined-second",
   "metadata": {},
   "outputs": [],
   "source": [
    "X_imputed = df_imputed.iloc [:, 0:-1]\n",
    "y_imputed = df_imputed.iloc[:,-1]"
   ]
  },
  {
   "cell_type": "code",
   "execution_count": 58,
   "id": "owned-society",
   "metadata": {},
   "outputs": [],
   "source": [
    "rfm = RandomForestRegressor(\n",
    "    n_estimators=500,\n",
    "    random_state=0,\n",
    "    )\n",
    "\n",
    "rfe = selection.RecursiveFeatureElimination(\n",
    "    estimator = rfm,\n",
    "    scoring ='neg_root_mean_squared_error',\n",
    "    cv=3,\n",
    "    threshold=0.001,\n",
    "    variables=None,\n",
    ")"
   ]
  },
  {
   "cell_type": "code",
   "execution_count": 59,
   "id": "swiss-soldier",
   "metadata": {},
   "outputs": [
    {
     "data": {
      "text/plain": [
       "RecursiveFeatureElimination(estimator=RandomForestRegressor(n_estimators=500,\n",
       "                                                            random_state=0),\n",
       "                            scoring='neg_root_mean_squared_error',\n",
       "                            threshold=0.001,\n",
       "                            variables=['MSSubClass', 'LotFrontage', 'LotArea',\n",
       "                                       'OverallQual', 'OverallCond',\n",
       "                                       'YearBuilt', 'YearRemodAdd',\n",
       "                                       'MasVnrArea', 'BsmtFinSF1', 'BsmtFinSF2',\n",
       "                                       'BsmtUnfSF', 'TotalBsmtSF', '1stFlrSF',\n",
       "                                       '2ndFlrSF', 'LowQualFinSF', 'GrLivArea',\n",
       "                                       'BsmtFullBath', 'BsmtHalfBath',\n",
       "                                       'FullBath', 'HalfBath', 'BedroomAbvGr',\n",
       "                                       'KitchenAbvGr', 'TotRmsAbvGrd',\n",
       "                                       'Fireplaces', 'GarageYrBlt',\n",
       "                                       'GarageCars', 'GarageArea', 'WoodDeckSF',\n",
       "                                       'OpenPorchSF', 'EnclosedPorch', ...])"
      ]
     },
     "execution_count": 59,
     "metadata": {},
     "output_type": "execute_result"
    }
   ],
   "source": [
    "rfe.fit(X_imputed, y_imputed)"
   ]
  },
  {
   "cell_type": "code",
   "execution_count": 60,
   "id": "cleared-mixture",
   "metadata": {},
   "outputs": [
    {
     "data": {
      "text/plain": [
       "['MasVnrArea',\n",
       " 'TotalBsmtSF',\n",
       " '1stFlrSF',\n",
       " 'LowQualFinSF',\n",
       " 'HalfBath',\n",
       " 'BedroomAbvGr',\n",
       " 'PoolArea',\n",
       " 'YrSold']"
      ]
     },
     "execution_count": 60,
     "metadata": {},
     "output_type": "execute_result"
    }
   ],
   "source": [
    "rfe.features_to_drop_"
   ]
  },
  {
   "cell_type": "code",
   "execution_count": null,
   "id": "weighted-alberta",
   "metadata": {},
   "outputs": [],
   "source": []
  },
  {
   "cell_type": "code",
   "execution_count": 18,
   "id": "stuck-medicare",
   "metadata": {},
   "outputs": [],
   "source": [
    "#One Hot Encoding for Nominal Features\n",
    "ohe = OneHotEncoder(sparse = False)\n",
    "T=ohe.fit_transform(df_imputed[nominal_features])\n",
    "#T"
   ]
  },
  {
   "cell_type": "code",
   "execution_count": 19,
   "id": "material-highland",
   "metadata": {},
   "outputs": [],
   "source": [
    "nominal_feature_names = ohe.get_feature_names(nominal_features)"
   ]
  },
  {
   "cell_type": "code",
   "execution_count": 20,
   "id": "norman-parks",
   "metadata": {},
   "outputs": [
    {
     "data": {
      "text/plain": [
       "array(['MSSubClass_20', 'MSSubClass_30', 'MSSubClass_40', 'MSSubClass_45',\n",
       "       'MSSubClass_50', 'MSSubClass_60', 'MSSubClass_70', 'MSSubClass_75',\n",
       "       'MSSubClass_80', 'MSSubClass_85', 'MSSubClass_90',\n",
       "       'MSSubClass_120', 'MSSubClass_150', 'MSSubClass_160',\n",
       "       'MSSubClass_180', 'MSSubClass_190', 'MSZoning_C (all)',\n",
       "       'MSZoning_FV', 'MSZoning_RH', 'MSZoning_RL', 'MSZoning_RM',\n",
       "       'Street_Grvl', 'Street_Pave', 'LandContour_Bnk', 'LandContour_HLS',\n",
       "       'LandContour_Low', 'LandContour_Lvl', 'LotConfig_Corner',\n",
       "       'LotConfig_CulDSac', 'LotConfig_FR2', 'LotConfig_FR3',\n",
       "       'LotConfig_Inside', 'Neighborhood_Blmngtn', 'Neighborhood_Blueste',\n",
       "       'Neighborhood_BrDale', 'Neighborhood_BrkSide',\n",
       "       'Neighborhood_ClearCr', 'Neighborhood_CollgCr',\n",
       "       'Neighborhood_Crawfor', 'Neighborhood_Edwards',\n",
       "       'Neighborhood_Gilbert', 'Neighborhood_IDOTRR',\n",
       "       'Neighborhood_MeadowV', 'Neighborhood_Mitchel',\n",
       "       'Neighborhood_NAmes', 'Neighborhood_NPkVill',\n",
       "       'Neighborhood_NWAmes', 'Neighborhood_NoRidge',\n",
       "       'Neighborhood_NridgHt', 'Neighborhood_OldTown',\n",
       "       'Neighborhood_SWISU', 'Neighborhood_Sawyer',\n",
       "       'Neighborhood_SawyerW', 'Neighborhood_Somerst',\n",
       "       'Neighborhood_StoneBr', 'Neighborhood_Timber',\n",
       "       'Neighborhood_Veenker', 'Condition1_Artery', 'Condition1_Feedr',\n",
       "       'Condition1_Norm', 'Condition1_PosA', 'Condition1_PosN',\n",
       "       'Condition1_RRAe', 'Condition1_RRAn', 'Condition1_RRNe',\n",
       "       'Condition1_RRNn', 'Condition2_Artery', 'Condition2_Feedr',\n",
       "       'Condition2_Norm', 'Condition2_PosA', 'Condition2_PosN',\n",
       "       'Condition2_RRAe', 'Condition2_RRAn', 'Condition2_RRNn',\n",
       "       'BldgType_1Fam', 'BldgType_2fmCon', 'BldgType_Duplex',\n",
       "       'BldgType_Twnhs', 'BldgType_TwnhsE', 'HouseStyle_1.5Fin',\n",
       "       'HouseStyle_1.5Unf', 'HouseStyle_1Story', 'HouseStyle_2.5Fin',\n",
       "       'HouseStyle_2.5Unf', 'HouseStyle_2Story', 'HouseStyle_SFoyer',\n",
       "       'HouseStyle_SLvl', 'RoofStyle_Flat', 'RoofStyle_Gable',\n",
       "       'RoofStyle_Gambrel', 'RoofStyle_Hip', 'RoofStyle_Mansard',\n",
       "       'RoofStyle_Shed', 'RoofMatl_CompShg', 'RoofMatl_Membran',\n",
       "       'RoofMatl_Metal', 'RoofMatl_Roll', 'RoofMatl_Tar&Grv',\n",
       "       'RoofMatl_WdShake', 'RoofMatl_WdShngl', 'Exterior1st_AsbShng',\n",
       "       'Exterior1st_AsphShn', 'Exterior1st_BrkComm',\n",
       "       'Exterior1st_BrkFace', 'Exterior1st_CBlock', 'Exterior1st_CemntBd',\n",
       "       'Exterior1st_HdBoard', 'Exterior1st_ImStucc',\n",
       "       'Exterior1st_MetalSd', 'Exterior1st_Plywood', 'Exterior1st_Stone',\n",
       "       'Exterior1st_Stucco', 'Exterior1st_VinylSd', 'Exterior1st_Wd Sdng',\n",
       "       'Exterior1st_WdShing', 'Exterior2nd_AsbShng',\n",
       "       'Exterior2nd_AsphShn', 'Exterior2nd_Brk Cmn',\n",
       "       'Exterior2nd_BrkFace', 'Exterior2nd_CBlock', 'Exterior2nd_CmentBd',\n",
       "       'Exterior2nd_HdBoard', 'Exterior2nd_ImStucc',\n",
       "       'Exterior2nd_MetalSd', 'Exterior2nd_Other', 'Exterior2nd_Plywood',\n",
       "       'Exterior2nd_Stone', 'Exterior2nd_Stucco', 'Exterior2nd_VinylSd',\n",
       "       'Exterior2nd_Wd Sdng', 'Exterior2nd_Wd Shng', 'MasVnrType_BrkCmn',\n",
       "       'MasVnrType_BrkFace', 'MasVnrType_None', 'MasVnrType_Stone',\n",
       "       'Foundation_BrkTil', 'Foundation_CBlock', 'Foundation_PConc',\n",
       "       'Foundation_Slab', 'Foundation_Stone', 'Foundation_Wood',\n",
       "       'Heating_Floor', 'Heating_GasA', 'Heating_GasW', 'Heating_Grav',\n",
       "       'Heating_OthW', 'Heating_Wall', 'CentralAir_N', 'CentralAir_Y',\n",
       "       'GarageType_2Types', 'GarageType_Attchd', 'GarageType_Basment',\n",
       "       'GarageType_BuiltIn', 'GarageType_CarPort', 'GarageType_Detchd',\n",
       "       'MoSold_1', 'MoSold_2', 'MoSold_3', 'MoSold_4', 'MoSold_5',\n",
       "       'MoSold_6', 'MoSold_7', 'MoSold_8', 'MoSold_9', 'MoSold_10',\n",
       "       'MoSold_11', 'MoSold_12', 'SaleType_COD', 'SaleType_CWD',\n",
       "       'SaleType_Con', 'SaleType_ConLD', 'SaleType_ConLI',\n",
       "       'SaleType_ConLw', 'SaleType_New', 'SaleType_Oth', 'SaleType_WD',\n",
       "       'SaleCondition_Abnorml', 'SaleCondition_AdjLand',\n",
       "       'SaleCondition_Alloca', 'SaleCondition_Family',\n",
       "       'SaleCondition_Normal', 'SaleCondition_Partial'], dtype=object)"
      ]
     },
     "execution_count": 20,
     "metadata": {},
     "output_type": "execute_result"
    }
   ],
   "source": [
    "nominal_feature_names  # nominal cateogy levels one-hot encoded"
   ]
  },
  {
   "cell_type": "code",
   "execution_count": 21,
   "id": "integrated-coaching",
   "metadata": {},
   "outputs": [],
   "source": [
    "# Ordinal Encoding Ordinal Features\n",
    "ore = OrdinalEncoder(categories=ordinal_categories_list)\n",
    "Z = ore.fit_transform(df_imputed[ordinal_features])\n",
    "#Z"
   ]
  },
  {
   "cell_type": "code",
   "execution_count": 22,
   "id": "greek-forest",
   "metadata": {},
   "outputs": [
    {
     "data": {
      "text/plain": [
       "[array(['IR3', 'IR2', 'IR1', 'Reg'], dtype=object),\n",
       " array(['ELO', 'NoSeWa', 'NoSewr', 'AllPub'], dtype=object),\n",
       " array(['Sev', 'Mod', 'Gtl'], dtype=object),\n",
       " array([ 1,  2,  3,  4,  5,  6,  7,  8,  9, 10]),\n",
       " array([ 1,  2,  3,  4,  5,  6,  7,  8,  9, 10]),\n",
       " array(['Po', 'Fa', 'TA', 'Gd', 'Ex'], dtype=object),\n",
       " array(['Po', 'Fa', 'TA', 'Gd', 'Ex'], dtype=object),\n",
       " array(['NA', 'Po', 'Fa', 'TA', 'Gd', 'Ex'], dtype=object),\n",
       " array(['NA', 'Po', 'Fa', 'TA', 'Gd', 'Ex'], dtype=object),\n",
       " array(['NA', 'No', 'Mn', 'Av', 'Gd'], dtype=object),\n",
       " array(['NA', 'Unf', 'LwQ', 'Rec', 'BLQ', 'ALQ', 'GLQ'], dtype=object),\n",
       " array(['NA', 'Unf', 'LwQ', 'Rec', 'BLQ', 'ALQ', 'GLQ'], dtype=object),\n",
       " array(['Po', 'Fa', 'TA', 'Gd', 'Ex'], dtype=object),\n",
       " array(['Mix', 'FuseP', 'FuseF', 'FuseA', 'SBrkr'], dtype=object),\n",
       " array(['Po', 'Fa', 'TA', 'Gd', 'Ex'], dtype=object),\n",
       " array(['Sal', 'Sev', 'Maj2', 'Maj1', 'Mod', 'Min2', 'Min1', 'Typ'],\n",
       "       dtype=object),\n",
       " array(['NA', 'Po', 'Fa', 'TA', 'Gd', 'Ex'], dtype=object),\n",
       " array(['NA', 'Unf', 'RFn', 'Fin'], dtype=object),\n",
       " array(['NA', 'Po', 'Fa', 'TA', 'Gd', 'Ex'], dtype=object),\n",
       " array(['NA', 'Po', 'Fa', 'TA', 'Gd', 'Ex'], dtype=object),\n",
       " array(['N', 'P', 'Y'], dtype=object)]"
      ]
     },
     "execution_count": 22,
     "metadata": {},
     "output_type": "execute_result"
    }
   ],
   "source": [
    "ore.categories_ #ordinal category levels"
   ]
  },
  {
   "cell_type": "code",
   "execution_count": 23,
   "id": "healthy-surveillance",
   "metadata": {},
   "outputs": [],
   "source": [
    "list=[pd.DataFrame(T,columns=nominal_feature_names).reset_index(drop=True), \n",
    "                pd.DataFrame(Z,columns=ordinal_features).reset_index(drop=True), df_imputed[numeric_features].reset_index(drop=True)]"
   ]
  },
  {
   "cell_type": "code",
   "execution_count": 24,
   "id": "herbal-exhibit",
   "metadata": {},
   "outputs": [],
   "source": [
    "df_encoded = pd.concat(list, axis=1)"
   ]
  },
  {
   "cell_type": "code",
   "execution_count": 25,
   "id": "fallen-saskatchewan",
   "metadata": {},
   "outputs": [
    {
     "data": {
      "text/plain": [
       "(2914, 236)"
      ]
     },
     "execution_count": 25,
     "metadata": {},
     "output_type": "execute_result"
    }
   ],
   "source": [
    "df_encoded.shape"
   ]
  },
  {
   "cell_type": "code",
   "execution_count": 26,
   "id": "several-nickname",
   "metadata": {},
   "outputs": [
    {
     "data": {
      "text/html": [
       "<div>\n",
       "<style scoped>\n",
       "    .dataframe tbody tr th:only-of-type {\n",
       "        vertical-align: middle;\n",
       "    }\n",
       "\n",
       "    .dataframe tbody tr th {\n",
       "        vertical-align: top;\n",
       "    }\n",
       "\n",
       "    .dataframe thead th {\n",
       "        text-align: right;\n",
       "    }\n",
       "</style>\n",
       "<table border=\"1\" class=\"dataframe\">\n",
       "  <thead>\n",
       "    <tr style=\"text-align: right;\">\n",
       "      <th></th>\n",
       "      <th>MSSubClass_20</th>\n",
       "      <th>MSSubClass_30</th>\n",
       "      <th>MSSubClass_40</th>\n",
       "      <th>MSSubClass_45</th>\n",
       "      <th>MSSubClass_50</th>\n",
       "      <th>MSSubClass_60</th>\n",
       "      <th>MSSubClass_70</th>\n",
       "      <th>MSSubClass_75</th>\n",
       "      <th>MSSubClass_80</th>\n",
       "      <th>MSSubClass_85</th>\n",
       "      <th>...</th>\n",
       "      <th>WoodDeckSF</th>\n",
       "      <th>OpenPorchSF</th>\n",
       "      <th>EnclosedPorch</th>\n",
       "      <th>3SsnPorch</th>\n",
       "      <th>ScreenPorch</th>\n",
       "      <th>PoolArea</th>\n",
       "      <th>MiscVal</th>\n",
       "      <th>GarageYrBlt</th>\n",
       "      <th>YrSold</th>\n",
       "      <th>SalePrice</th>\n",
       "    </tr>\n",
       "  </thead>\n",
       "  <tbody>\n",
       "    <tr>\n",
       "      <th>0</th>\n",
       "      <td>0.0</td>\n",
       "      <td>0.0</td>\n",
       "      <td>0.0</td>\n",
       "      <td>0.0</td>\n",
       "      <td>0.0</td>\n",
       "      <td>1.0</td>\n",
       "      <td>0.0</td>\n",
       "      <td>0.0</td>\n",
       "      <td>0.0</td>\n",
       "      <td>0.0</td>\n",
       "      <td>...</td>\n",
       "      <td>0</td>\n",
       "      <td>61</td>\n",
       "      <td>0</td>\n",
       "      <td>0</td>\n",
       "      <td>0</td>\n",
       "      <td>0</td>\n",
       "      <td>0</td>\n",
       "      <td>2003.0</td>\n",
       "      <td>2008</td>\n",
       "      <td>208500.0</td>\n",
       "    </tr>\n",
       "    <tr>\n",
       "      <th>1</th>\n",
       "      <td>1.0</td>\n",
       "      <td>0.0</td>\n",
       "      <td>0.0</td>\n",
       "      <td>0.0</td>\n",
       "      <td>0.0</td>\n",
       "      <td>0.0</td>\n",
       "      <td>0.0</td>\n",
       "      <td>0.0</td>\n",
       "      <td>0.0</td>\n",
       "      <td>0.0</td>\n",
       "      <td>...</td>\n",
       "      <td>298</td>\n",
       "      <td>0</td>\n",
       "      <td>0</td>\n",
       "      <td>0</td>\n",
       "      <td>0</td>\n",
       "      <td>0</td>\n",
       "      <td>0</td>\n",
       "      <td>1976.0</td>\n",
       "      <td>2007</td>\n",
       "      <td>181500.0</td>\n",
       "    </tr>\n",
       "    <tr>\n",
       "      <th>2</th>\n",
       "      <td>0.0</td>\n",
       "      <td>0.0</td>\n",
       "      <td>0.0</td>\n",
       "      <td>0.0</td>\n",
       "      <td>0.0</td>\n",
       "      <td>1.0</td>\n",
       "      <td>0.0</td>\n",
       "      <td>0.0</td>\n",
       "      <td>0.0</td>\n",
       "      <td>0.0</td>\n",
       "      <td>...</td>\n",
       "      <td>0</td>\n",
       "      <td>42</td>\n",
       "      <td>0</td>\n",
       "      <td>0</td>\n",
       "      <td>0</td>\n",
       "      <td>0</td>\n",
       "      <td>0</td>\n",
       "      <td>2001.0</td>\n",
       "      <td>2008</td>\n",
       "      <td>223500.0</td>\n",
       "    </tr>\n",
       "    <tr>\n",
       "      <th>3</th>\n",
       "      <td>0.0</td>\n",
       "      <td>0.0</td>\n",
       "      <td>0.0</td>\n",
       "      <td>0.0</td>\n",
       "      <td>0.0</td>\n",
       "      <td>0.0</td>\n",
       "      <td>1.0</td>\n",
       "      <td>0.0</td>\n",
       "      <td>0.0</td>\n",
       "      <td>0.0</td>\n",
       "      <td>...</td>\n",
       "      <td>0</td>\n",
       "      <td>35</td>\n",
       "      <td>272</td>\n",
       "      <td>0</td>\n",
       "      <td>0</td>\n",
       "      <td>0</td>\n",
       "      <td>0</td>\n",
       "      <td>1998.0</td>\n",
       "      <td>2006</td>\n",
       "      <td>140000.0</td>\n",
       "    </tr>\n",
       "    <tr>\n",
       "      <th>4</th>\n",
       "      <td>0.0</td>\n",
       "      <td>0.0</td>\n",
       "      <td>0.0</td>\n",
       "      <td>0.0</td>\n",
       "      <td>0.0</td>\n",
       "      <td>1.0</td>\n",
       "      <td>0.0</td>\n",
       "      <td>0.0</td>\n",
       "      <td>0.0</td>\n",
       "      <td>0.0</td>\n",
       "      <td>...</td>\n",
       "      <td>192</td>\n",
       "      <td>84</td>\n",
       "      <td>0</td>\n",
       "      <td>0</td>\n",
       "      <td>0</td>\n",
       "      <td>0</td>\n",
       "      <td>0</td>\n",
       "      <td>2000.0</td>\n",
       "      <td>2008</td>\n",
       "      <td>250000.0</td>\n",
       "    </tr>\n",
       "  </tbody>\n",
       "</table>\n",
       "<p>5 rows × 236 columns</p>\n",
       "</div>"
      ],
      "text/plain": [
       "   MSSubClass_20  MSSubClass_30  MSSubClass_40  MSSubClass_45  MSSubClass_50  \\\n",
       "0            0.0            0.0            0.0            0.0            0.0   \n",
       "1            1.0            0.0            0.0            0.0            0.0   \n",
       "2            0.0            0.0            0.0            0.0            0.0   \n",
       "3            0.0            0.0            0.0            0.0            0.0   \n",
       "4            0.0            0.0            0.0            0.0            0.0   \n",
       "\n",
       "   MSSubClass_60  MSSubClass_70  MSSubClass_75  MSSubClass_80  MSSubClass_85  \\\n",
       "0            1.0            0.0            0.0            0.0            0.0   \n",
       "1            0.0            0.0            0.0            0.0            0.0   \n",
       "2            1.0            0.0            0.0            0.0            0.0   \n",
       "3            0.0            1.0            0.0            0.0            0.0   \n",
       "4            1.0            0.0            0.0            0.0            0.0   \n",
       "\n",
       "   ...  WoodDeckSF  OpenPorchSF  EnclosedPorch  3SsnPorch  ScreenPorch  \\\n",
       "0  ...           0           61              0          0            0   \n",
       "1  ...         298            0              0          0            0   \n",
       "2  ...           0           42              0          0            0   \n",
       "3  ...           0           35            272          0            0   \n",
       "4  ...         192           84              0          0            0   \n",
       "\n",
       "   PoolArea  MiscVal  GarageYrBlt  YrSold  SalePrice  \n",
       "0         0        0       2003.0    2008   208500.0  \n",
       "1         0        0       1976.0    2007   181500.0  \n",
       "2         0        0       2001.0    2008   223500.0  \n",
       "3         0        0       1998.0    2006   140000.0  \n",
       "4         0        0       2000.0    2008   250000.0  \n",
       "\n",
       "[5 rows x 236 columns]"
      ]
     },
     "execution_count": 26,
     "metadata": {},
     "output_type": "execute_result"
    }
   ],
   "source": [
    "df_encoded.head()"
   ]
  },
  {
   "cell_type": "code",
   "execution_count": 27,
   "id": "caring-welsh",
   "metadata": {},
   "outputs": [],
   "source": [
    "X = df_encoded.iloc [:, 0:-1]\n",
    "y = df_encoded.iloc [:,-1]"
   ]
  },
  {
   "cell_type": "code",
   "execution_count": 28,
   "id": "recent-consumption",
   "metadata": {},
   "outputs": [
    {
     "data": {
      "text/plain": [
       "(2914, 235)"
      ]
     },
     "execution_count": 28,
     "metadata": {},
     "output_type": "execute_result"
    }
   ],
   "source": [
    "X.shape"
   ]
  },
  {
   "cell_type": "code",
   "execution_count": 29,
   "id": "dangerous-lawyer",
   "metadata": {},
   "outputs": [
    {
     "data": {
      "text/plain": [
       "(2914,)"
      ]
     },
     "execution_count": 29,
     "metadata": {},
     "output_type": "execute_result"
    }
   ],
   "source": [
    "y.shape"
   ]
  },
  {
   "cell_type": "markdown",
   "id": "buried-warner",
   "metadata": {},
   "source": [
    "### 1. Correlation Feature Selection, SelectKBest "
   ]
  },
  {
   "cell_type": "code",
   "execution_count": 35,
   "id": "according-hamburg",
   "metadata": {},
   "outputs": [],
   "source": [
    "fs = SelectKBest(score_func=f_regression, k = 30) # Select 30 most important features"
   ]
  },
  {
   "cell_type": "code",
   "execution_count": 36,
   "id": "entitled-agreement",
   "metadata": {},
   "outputs": [],
   "source": [
    "f_bestK = fs.fit(X, y) #use the entire dataset"
   ]
  },
  {
   "cell_type": "code",
   "execution_count": 38,
   "id": "burning-tuner",
   "metadata": {},
   "outputs": [
    {
     "name": "stdout",
     "output_type": "stream",
     "text": [
      "Feature MSSubClass_20: 5.337222\n",
      "Feature MSSubClass_30: 119.340491\n",
      "Feature MSSubClass_40: 0.929564\n",
      "Feature MSSubClass_45: 15.346155\n",
      "Feature MSSubClass_50: 35.258845\n",
      "Feature MSSubClass_60: 292.197033\n",
      "Feature MSSubClass_70: 0.876965\n",
      "Feature MSSubClass_75: 1.144184\n",
      "Feature MSSubClass_80: 0.411581\n",
      "Feature MSSubClass_85: 4.977926\n",
      "Feature MSSubClass_90: 7.864528\n",
      "Feature MSSubClass_120: 0.272428\n",
      "Feature MSSubClass_150: 0.264593\n",
      "Feature MSSubClass_160: 36.733723\n",
      "Feature MSSubClass_180: 18.595984\n",
      "Feature MSSubClass_190: 10.166585\n",
      "Feature MSZoning_C (all): 17.756391\n",
      "Feature MSZoning_FV: 4.363566\n",
      "Feature MSZoning_RH: 9.204038\n",
      "Feature MSZoning_RL: 142.885495\n",
      "Feature MSZoning_RM: 170.787894\n",
      "Feature Street_Grvl: 3.099171\n",
      "Feature Street_Pave: 3.099171\n",
      "Feature LandContour_Bnk: 14.749796\n",
      "Feature LandContour_HLS: 16.499173\n",
      "Feature LandContour_Low: 6.104743\n",
      "Feature LandContour_Lvl: 1.878049\n",
      "Feature LotConfig_Corner: 0.163378\n",
      "Feature LotConfig_CulDSac: 46.693773\n",
      "Feature LotConfig_FR2: 0.005021\n",
      "Feature LotConfig_FR3: 0.208046\n",
      "Feature LotConfig_Inside: 11.208276\n",
      "Feature Neighborhood_Blmngtn: 0.000084\n",
      "Feature Neighborhood_Blueste: 3.310053\n",
      "Feature Neighborhood_BrDale: 23.405547\n",
      "Feature Neighborhood_BrkSide: 43.884340\n",
      "Feature Neighborhood_ClearCr: 7.172356\n",
      "Feature Neighborhood_CollgCr: 11.055436\n",
      "Feature Neighborhood_Crawfor: 10.582774\n",
      "Feature Neighborhood_Edwards: 48.224722\n",
      "Feature Neighborhood_Gilbert: 4.980365\n",
      "Feature Neighborhood_IDOTRR: 35.786234\n",
      "Feature Neighborhood_MeadowV: 27.444596\n",
      "Feature Neighborhood_Mitchel: 2.600979\n",
      "Feature Neighborhood_NAmes: 49.225889\n",
      "Feature Neighborhood_NPkVill: 5.050381\n",
      "Feature Neighborhood_NWAmes: 3.297288\n",
      "Feature Neighborhood_NoRidge: 161.765945\n",
      "Feature Neighborhood_NridgHt: 255.879623\n",
      "Feature Neighborhood_OldTown: 58.678995\n",
      "Feature Neighborhood_SWISU: 7.272350\n",
      "Feature Neighborhood_Sawyer: 21.771277\n",
      "Feature Neighborhood_SawyerW: 1.199232\n",
      "Feature Neighborhood_Somerst: 17.791200\n",
      "Feature Neighborhood_StoneBr: 74.248265\n",
      "Feature Neighborhood_Timber: 29.062873\n",
      "Feature Neighborhood_Veenker: 6.579526\n",
      "Feature Condition1_Artery: 15.877764\n",
      "Feature Condition1_Feedr: 17.315756\n",
      "Feature Condition1_Norm: 12.091055\n",
      "Feature Condition1_PosA: 3.611355\n",
      "Feature Condition1_PosN: 6.229334\n",
      "Feature Condition1_RRAe: 1.981831\n",
      "Feature Condition1_RRAn: 0.433088\n",
      "Feature Condition1_RRNe: 0.021835\n",
      "Feature Condition1_RRNn: 1.395391\n",
      "Feature Condition2_Artery: 1.857095\n",
      "Feature Condition2_Feedr: 2.454028\n",
      "Feature Condition2_Norm: 1.252150\n",
      "Feature Condition2_PosA: 2.137496\n",
      "Feature Condition2_PosN: 3.716639\n",
      "Feature Condition2_RRAe: 0.034851\n",
      "Feature Condition2_RRAn: 0.594480\n",
      "Feature Condition2_RRNn: 4.479594\n",
      "Feature BldgType_1Fam: 54.460663\n",
      "Feature BldgType_2fmCon: 11.035140\n",
      "Feature BldgType_Duplex: 7.864528\n",
      "Feature BldgType_Twnhs: 32.244335\n",
      "Feature BldgType_TwnhsE: 7.348054\n",
      "Feature HouseStyle_1.5Fin: 37.946079\n",
      "Feature HouseStyle_1.5Unf: 18.675684\n",
      "Feature HouseStyle_1Story: 11.520178\n",
      "Feature HouseStyle_2.5Fin: 4.253577\n",
      "Feature HouseStyle_2.5Unf: 0.074206\n",
      "Feature HouseStyle_2Story: 112.613844\n",
      "Feature HouseStyle_SFoyer: 18.527888\n",
      "Feature HouseStyle_SLvl: 1.400886\n",
      "Feature RoofStyle_Flat: 0.682375\n",
      "Feature RoofStyle_Gable: 92.082639\n",
      "Feature RoofStyle_Gambrel: 1.702260\n",
      "Feature RoofStyle_Hip: 99.625590\n",
      "Feature RoofStyle_Mansard: 0.041916\n",
      "Feature RoofStyle_Shed: 0.585639\n",
      "Feature RoofMatl_CompShg: 12.542544\n",
      "Feature RoofMatl_Membran: 1.244973\n",
      "Feature RoofMatl_Metal: 0.000040\n",
      "Feature RoofMatl_Roll: 0.591840\n",
      "Feature RoofMatl_Tar&Grv: 0.358966\n",
      "Feature RoofMatl_WdShake: 5.757857\n",
      "Feature RoofMatl_WdShngl: 24.551034\n",
      "Feature Exterior1st_AsbShng: 16.870673\n",
      "Feature Exterior1st_AsphShn: 1.006008\n",
      "Feature Exterior1st_BrkComm: 2.469508\n",
      "Feature Exterior1st_BrkFace: 3.541803\n",
      "Feature Exterior1st_CBlock: 0.152676\n",
      "Feature Exterior1st_CemntBd: 19.029754\n",
      "Feature Exterior1st_HdBoard: 14.061008\n",
      "Feature Exterior1st_ImStucc: 2.207748\n",
      "Feature Exterior1st_MetalSd: 53.149038\n",
      "Feature Exterior1st_Plywood: 0.000554\n",
      "Feature Exterior1st_Stone: 4.052096\n",
      "Feature Exterior1st_Stucco: 2.904603\n",
      "Feature Exterior1st_VinylSd: 166.738027\n",
      "Feature Exterior1st_Wd Sdng: 41.878261\n",
      "Feature Exterior1st_WdShing: 3.992846\n",
      "Feature Exterior2nd_AsbShng: 15.794307\n",
      "Feature Exterior2nd_AsphShn: 1.250617\n",
      "Feature Exterior2nd_Brk Cmn: 5.573877\n",
      "Feature Exterior2nd_BrkFace: 1.692158\n",
      "Feature Exterior2nd_CBlock: 0.487323\n",
      "Feature Exterior2nd_CmentBd: 17.169041\n",
      "Feature Exterior2nd_HdBoard: 8.170215\n",
      "Feature Exterior2nd_ImStucc: 0.926929\n",
      "Feature Exterior2nd_MetalSd: 47.571352\n",
      "Feature Exterior2nd_Other: 6.330647\n",
      "Feature Exterior2nd_Plywood: 1.275918\n",
      "Feature Exterior2nd_Stone: 0.697757\n",
      "Feature Exterior2nd_Stucco: 4.061287\n",
      "Feature Exterior2nd_VinylSd: 167.983533\n",
      "Feature Exterior2nd_Wd Sdng: 36.191211\n",
      "Feature Exterior2nd_Wd Shng: 3.124714\n",
      "Feature MasVnrType_BrkCmn: 3.384392\n",
      "Feature MasVnrType_BrkFace: 73.595265\n",
      "Feature MasVnrType_None: 243.906082\n",
      "Feature MasVnrType_Stone: 179.352427\n",
      "Feature Foundation_BrkTil: 69.837321\n",
      "Feature Foundation_CBlock: 169.988053\n",
      "Feature Foundation_PConc: 406.859926\n",
      "Feature Foundation_Slab: 17.999332\n",
      "Feature Foundation_Stone: 0.263472\n",
      "Feature Foundation_Wood: 0.022468\n",
      "Feature Heating_Floor: 3.739606\n",
      "Feature Heating_GasA: 14.015194\n",
      "Feature Heating_GasW: 0.171930\n",
      "Feature Heating_Grav: 16.910277\n",
      "Feature Heating_OthW: 1.891991\n",
      "Feature Heating_Wall: 7.196875\n",
      "Feature CentralAir_N: 105.094036\n",
      "Feature CentralAir_Y: 105.094036\n",
      "Feature GarageType_2Types: 0.275078\n",
      "Feature GarageType_Attchd: 81.425913\n",
      "Feature GarageType_Basment: 2.289006\n",
      "Feature GarageType_BuiltIn: 110.797957\n",
      "Feature GarageType_CarPort: 9.866455\n",
      "Feature GarageType_Detchd: 228.056807\n",
      "Feature MoSold_1: 0.515026\n",
      "Feature MoSold_2: 1.578529\n",
      "Feature MoSold_3: 0.104509\n",
      "Feature MoSold_4: 5.400124\n",
      "Feature MoSold_5: 3.353908\n",
      "Feature MoSold_6: 0.251882\n",
      "Feature MoSold_7: 1.075458\n",
      "Feature MoSold_8: 0.858789\n",
      "Feature MoSold_9: 4.086772\n",
      "Feature MoSold_10: 0.326327\n",
      "Feature MoSold_11: 5.297996\n",
      "Feature MoSold_12: 2.276206\n",
      "Feature SaleType_COD: 9.985517\n",
      "Feature SaleType_CWD: 0.463439\n",
      "Feature SaleType_Con: 1.869053\n",
      "Feature SaleType_ConLD: 2.994412\n",
      "Feature SaleType_ConLI: 0.331090\n",
      "Feature SaleType_ConLw: 1.662592\n",
      "Feature SaleType_New: 224.330464\n",
      "Feature SaleType_Oth: 1.209898\n",
      "Feature SaleType_WD: 93.974909\n",
      "Feature SaleCondition_Abnorml: 26.365288\n",
      "Feature SaleCondition_AdjLand: 2.252723\n",
      "Feature SaleCondition_Alloca: 0.015443\n",
      "Feature SaleCondition_Family: 1.094133\n",
      "Feature SaleCondition_Normal: 40.740740\n",
      "Feature SaleCondition_Partial: 215.709123\n",
      "Feature LotShape: 144.045266\n",
      "Feature Utilities: 0.578042\n",
      "Feature LandSlope: 4.035495\n",
      "Feature OverallQual: 1290.311161\n",
      "Feature OverallCond: 13.391732\n",
      "Feature ExterQual: 839.190265\n",
      "Feature ExterCond: 0.491464\n",
      "Feature BsmtQual: 730.684941\n",
      "Feature BsmtCond: 38.891610\n",
      "Feature BsmtExposure: 190.723792\n",
      "Feature BsmtFinType1: 114.116258\n",
      "Feature BsmtFinType2: 1.813358\n",
      "Feature HeatingQC: 295.902846\n",
      "Feature Electrical: 92.155294\n",
      "Feature KitchenQual: 822.485411\n",
      "Feature Functional: 10.389339\n",
      "Feature FireplaceQu: 0.128602\n",
      "Feature GarageFinish: 497.921739\n",
      "Feature GarageQual: 37.311347\n",
      "Feature GarageCond: 22.153420\n",
      "Feature PavedDrive: 77.068210\n",
      "Feature LotFrontage: 290.693065\n",
      "Feature LotArea: 294.674719\n",
      "Feature YearBuilt: 460.733714\n",
      "Feature YearRemodAdd: 430.245738\n",
      "Feature MasVnrArea: 411.996009\n",
      "Feature BsmtFinSF1: 230.472161\n",
      "Feature BsmtFinSF2: 0.090328\n",
      "Feature BsmtUnfSF: 97.228167\n",
      "Feature TotalBsmtSF: 812.208950\n",
      "Feature 1stFlrSF: 840.608646\n",
      "Feature 2ndFlrSF: 206.156080\n",
      "Feature LowQualFinSF: 0.673838\n",
      "Feature GrLivArea: 1556.807274\n",
      "Feature BsmtFullBath: 69.688808\n",
      "Feature BsmtHalfBath: 2.150905\n",
      "Feature FullBath: 669.388388\n",
      "Feature HalfBath: 160.207343\n",
      "Feature BedroomAbvGr: 160.570772\n",
      "Feature KitchenAbvGr: 15.524685\n",
      "Feature TotRmsAbvGrd: 845.066697\n",
      "Feature Fireplaces: 412.846638\n",
      "Feature GarageCars: 848.313272\n",
      "Feature GarageArea: 837.361948\n",
      "Feature WoodDeckSF: 172.441239\n",
      "Feature OpenPorchSF: 185.760484\n",
      "Feature EnclosedPorch: 14.595693\n",
      "Feature 3SsnPorch: 2.948807\n",
      "Feature ScreenPorch: 22.387305\n",
      "Feature PoolArea: 3.403238\n",
      "Feature MiscVal: 0.330410\n",
      "Feature GarageYrBlt: 335.679780\n",
      "Feature YrSold: 3.776720\n",
      "Selected Features: Index(['MSSubClass_60', 'Neighborhood_NridgHt', 'MasVnrType_None',\n",
      "       'Foundation_PConc', 'GarageType_Detchd', 'SaleType_New',\n",
      "       'SaleCondition_Partial', 'OverallQual', 'ExterQual', 'BsmtQual',\n",
      "       'BsmtExposure', 'HeatingQC', 'KitchenQual', 'GarageFinish',\n",
      "       'LotFrontage', 'LotArea', 'YearBuilt', 'YearRemodAdd', 'MasVnrArea',\n",
      "       'BsmtFinSF1', 'TotalBsmtSF', '1stFlrSF', '2ndFlrSF', 'GrLivArea',\n",
      "       'FullBath', 'TotRmsAbvGrd', 'Fireplaces', 'GarageCars', 'GarageArea',\n",
      "       'GarageYrBlt'],\n",
      "      dtype='object')\n"
     ]
    }
   ],
   "source": [
    "for i in range(len(f_bestK.scores_)):\n",
    "    print('Feature %s: %f' % (X.columns[i], f_bestK.scores_[i]))\n",
    "print (\"Selected Features: %s\" % X.columns[f_bestK.get_support()]) # Top 30 important Features"
   ]
  },
  {
   "cell_type": "code",
   "execution_count": 39,
   "id": "senior-reader",
   "metadata": {},
   "outputs": [],
   "source": [
    "#features_train = fit.transform(X_train) # reduce the feature matrix to the important ones"
   ]
  },
  {
   "cell_type": "code",
   "execution_count": 40,
   "id": "expanded-playing",
   "metadata": {},
   "outputs": [],
   "source": [
    "#features_test = fit.transform(X_test)"
   ]
  },
  {
   "cell_type": "markdown",
   "id": "sapphire-optimization",
   "metadata": {},
   "source": [
    "### 2. Mutual Information Statistics Feature Selection, SelectKBest"
   ]
  },
  {
   "cell_type": "code",
   "execution_count": 41,
   "id": "executive-indonesia",
   "metadata": {},
   "outputs": [],
   "source": [
    "mi = SelectKBest(score_func = mutual_info_regression, k=30)"
   ]
  },
  {
   "cell_type": "code",
   "execution_count": 42,
   "id": "false-powell",
   "metadata": {},
   "outputs": [],
   "source": [
    "mi_bestK = mi.fit(X, y)"
   ]
  },
  {
   "cell_type": "code",
   "execution_count": 43,
   "id": "suspected-lease",
   "metadata": {},
   "outputs": [
    {
     "name": "stdout",
     "output_type": "stream",
     "text": [
      "Selected Features: Index(['MSSubClass_60', 'MSZoning_RL', 'MSZoning_RM', 'Foundation_PConc',\n",
      "       'GarageType_Detchd', 'OverallQual', 'ExterQual', 'BsmtQual',\n",
      "       'BsmtFinType1', 'HeatingQC', 'KitchenQual', 'GarageFinish',\n",
      "       'LotFrontage', 'LotArea', 'YearBuilt', 'YearRemodAdd', 'MasVnrArea',\n",
      "       'BsmtFinSF1', 'TotalBsmtSF', '1stFlrSF', '2ndFlrSF', 'GrLivArea',\n",
      "       'FullBath', 'BedroomAbvGr', 'TotRmsAbvGrd', 'Fireplaces', 'GarageCars',\n",
      "       'GarageArea', 'OpenPorchSF', 'GarageYrBlt'],\n",
      "      dtype='object')\n"
     ]
    }
   ],
   "source": [
    "#for i in range(len(mi_bestK.scores_)):\n",
    "#     print('Feature %s: %f' % (X.columns[i], mi_bestK.scores_[i]))\n",
    "print (\"Selected Features: %s\" % X.columns[mi_bestK.get_support()])"
   ]
  },
  {
   "cell_type": "markdown",
   "id": "interesting-municipality",
   "metadata": {},
   "source": [
    "### 3a. Recursive Feature Elimination with LightGBM"
   ]
  },
  {
   "cell_type": "code",
   "execution_count": 44,
   "id": "objective-administration",
   "metadata": {},
   "outputs": [],
   "source": [
    "model = LGBMRegressor(random_state=1)"
   ]
  },
  {
   "cell_type": "code",
   "execution_count": 45,
   "id": "automotive-drunk",
   "metadata": {},
   "outputs": [],
   "source": [
    "rfe = RFE (model, 30)"
   ]
  },
  {
   "cell_type": "code",
   "execution_count": 46,
   "id": "complimentary-marble",
   "metadata": {},
   "outputs": [],
   "source": [
    "rfe_lgb = rfe.fit(X, y)"
   ]
  },
  {
   "cell_type": "code",
   "execution_count": 47,
   "id": "outdoor-thanksgiving",
   "metadata": {},
   "outputs": [
    {
     "name": "stdout",
     "output_type": "stream",
     "text": [
      "Selected Features: Index(['OverallQual', 'OverallCond', 'ExterQual', 'BsmtQual', 'BsmtExposure',\n",
      "       'BsmtFinType1', 'HeatingQC', 'KitchenQual', 'Functional', 'FireplaceQu',\n",
      "       'GarageFinish', 'LotFrontage', 'LotArea', 'YearBuilt', 'YearRemodAdd',\n",
      "       'MasVnrArea', 'BsmtFinSF1', 'BsmtUnfSF', 'TotalBsmtSF', '1stFlrSF',\n",
      "       '2ndFlrSF', 'GrLivArea', 'BedroomAbvGr', 'TotRmsAbvGrd', 'GarageArea',\n",
      "       'WoodDeckSF', 'OpenPorchSF', 'EnclosedPorch', 'GarageYrBlt', 'YrSold'],\n",
      "      dtype='object')\n"
     ]
    }
   ],
   "source": [
    "#for i in range(len(rfe_lgb.ranking_)):\n",
    "#    print('Feature %s: %f' % (X.columns[i], rfe_lgb.ranking_[i]))\n",
    "print (\"Selected Features: %s\" % X.columns[rfe_lgb.support_])"
   ]
  },
  {
   "cell_type": "markdown",
   "id": "respective-norway",
   "metadata": {},
   "source": [
    "### 3b.Recursive Feature Elimination (RFE) with XGBoost"
   ]
  },
  {
   "cell_type": "code",
   "execution_count": 48,
   "id": "configured-yemen",
   "metadata": {},
   "outputs": [
    {
     "name": "stdout",
     "output_type": "stream",
     "text": [
      "Selected Features: Index(['Exterior1st_AsphShn', 'Exterior1st_BrkComm', 'Heating_GasA',\n",
      "       'MoSold_1', 'OverallQual', 'KitchenQual', 'FireplaceQu', 'GarageFinish',\n",
      "       'PavedDrive', 'LotFrontage', 'LotArea', 'YearBuilt', 'YearRemodAdd',\n",
      "       'MasVnrArea', 'BsmtFinSF1', 'BsmtFinSF2', 'BsmtUnfSF', 'TotalBsmtSF',\n",
      "       '1stFlrSF', '2ndFlrSF', 'GrLivArea', 'BedroomAbvGr', 'KitchenAbvGr',\n",
      "       'TotRmsAbvGrd', 'GarageCars', 'GarageArea', 'WoodDeckSF', 'OpenPorchSF',\n",
      "       'MiscVal', 'GarageYrBlt'],\n",
      "      dtype='object')\n"
     ]
    }
   ],
   "source": [
    "#from sklearn.tree import DecisionTreeRegressor\n",
    "rfe = RFE(estimator=XGBRegressor(), n_features_to_select=30)\n",
    "rfe_xgb = rfe.fit(X,y)\n",
    "# for i in range(X.shape[1]):\n",
    "#     print('Column: %s, Rank: %.3f' % (X.columns[i], rfe_xgb.ranking_[i]))\n",
    "print (\"Selected Features: %s\" % X.columns[rfe_xgb.get_support()])"
   ]
  },
  {
   "cell_type": "markdown",
   "id": "occasional-myrtle",
   "metadata": {},
   "source": [
    "### 4. Sequential Feature Selection - Backward Selection"
   ]
  },
  {
   "cell_type": "code",
   "execution_count": 53,
   "id": "appreciated-depression",
   "metadata": {},
   "outputs": [
    {
     "name": "stdout",
     "output_type": "stream",
     "text": [
      "Features selected by backward selection: ['MoSold_4', 'SaleCondition_Normal', 'OverallCond', 'ExterQual', 'KitchenQual', 'PavedDrive', 'LotFrontage', 'LotArea', 'YearBuilt', 'YearRemodAdd', 'MasVnrArea', 'BsmtFinSF2', 'BsmtUnfSF', '1stFlrSF', '2ndFlrSF', 'LowQualFinSF', 'BsmtFullBath', 'BsmtHalfBath', 'FullBath', 'HalfBath', 'BedroomAbvGr', 'KitchenAbvGr', 'TotRmsAbvGrd', 'Fireplaces', 'GarageCars', 'OpenPorchSF', 'EnclosedPorch', '3SsnPorch', 'ScreenPorch', 'GarageYrBlt']\n"
     ]
    }
   ],
   "source": [
    "from sklearn.feature_selection import SequentialFeatureSelector\n",
    "from sklearn.neighbors import KNeighborsRegressor\n",
    "knn = KNeighborsRegressor(n_neighbors=3)\n",
    "sfs = SequentialFeatureSelector(knn, direction = 'backward', n_features_to_select=30)\n",
    "back_bestK=sfs.fit(X, y)\n",
    "for i in range(X_encoded.shape[1]):\n",
    "    print('Column: %s, Selected: %s' % (X.columns[i], back_bestK.support_[i]))\n",
    "print(\"Features selected by backward selection: \"  \n",
    "      f\"{X.columns[back_bestK.get_support()].tolist()}\")    "
   ]
  },
  {
   "cell_type": "code",
   "execution_count": 57,
   "id": "paperback-terrorism",
   "metadata": {},
   "outputs": [
    {
     "name": "stdout",
     "output_type": "stream",
     "text": [
      "Column: MSSubClass_20, Selected: False\n",
      "Column: MSSubClass_30, Selected: False\n",
      "Column: MSSubClass_40, Selected: False\n",
      "Column: MSSubClass_45, Selected: False\n",
      "Column: MSSubClass_50, Selected: False\n",
      "Column: MSSubClass_60, Selected: False\n",
      "Column: MSSubClass_70, Selected: False\n",
      "Column: MSSubClass_75, Selected: False\n",
      "Column: MSSubClass_80, Selected: False\n",
      "Column: MSSubClass_85, Selected: False\n",
      "Column: MSSubClass_90, Selected: False\n",
      "Column: MSSubClass_120, Selected: False\n",
      "Column: MSSubClass_150, Selected: False\n",
      "Column: MSSubClass_160, Selected: False\n",
      "Column: MSSubClass_180, Selected: False\n",
      "Column: MSSubClass_190, Selected: False\n",
      "Column: MSZoning_C (all), Selected: False\n",
      "Column: MSZoning_FV, Selected: False\n",
      "Column: MSZoning_RH, Selected: False\n",
      "Column: MSZoning_RL, Selected: False\n",
      "Column: MSZoning_RM, Selected: False\n",
      "Column: Street_Grvl, Selected: False\n",
      "Column: Street_Pave, Selected: False\n",
      "Column: LandContour_Bnk, Selected: False\n",
      "Column: LandContour_HLS, Selected: False\n",
      "Column: LandContour_Low, Selected: False\n",
      "Column: LandContour_Lvl, Selected: False\n",
      "Column: LotConfig_Corner, Selected: False\n",
      "Column: LotConfig_CulDSac, Selected: False\n",
      "Column: LotConfig_FR2, Selected: False\n",
      "Column: LotConfig_FR3, Selected: False\n",
      "Column: LotConfig_Inside, Selected: False\n",
      "Column: Neighborhood_Blmngtn, Selected: False\n",
      "Column: Neighborhood_Blueste, Selected: False\n",
      "Column: Neighborhood_BrDale, Selected: False\n",
      "Column: Neighborhood_BrkSide, Selected: False\n",
      "Column: Neighborhood_ClearCr, Selected: False\n",
      "Column: Neighborhood_CollgCr, Selected: False\n",
      "Column: Neighborhood_Crawfor, Selected: False\n",
      "Column: Neighborhood_Edwards, Selected: False\n",
      "Column: Neighborhood_Gilbert, Selected: False\n",
      "Column: Neighborhood_IDOTRR, Selected: False\n",
      "Column: Neighborhood_MeadowV, Selected: False\n",
      "Column: Neighborhood_Mitchel, Selected: False\n",
      "Column: Neighborhood_NAmes, Selected: False\n",
      "Column: Neighborhood_NPkVill, Selected: False\n",
      "Column: Neighborhood_NWAmes, Selected: False\n",
      "Column: Neighborhood_NoRidge, Selected: False\n",
      "Column: Neighborhood_NridgHt, Selected: False\n",
      "Column: Neighborhood_OldTown, Selected: False\n",
      "Column: Neighborhood_SWISU, Selected: False\n",
      "Column: Neighborhood_Sawyer, Selected: False\n",
      "Column: Neighborhood_SawyerW, Selected: False\n",
      "Column: Neighborhood_Somerst, Selected: False\n",
      "Column: Neighborhood_StoneBr, Selected: False\n",
      "Column: Neighborhood_Timber, Selected: False\n",
      "Column: Neighborhood_Veenker, Selected: False\n",
      "Column: Condition1_Artery, Selected: False\n",
      "Column: Condition1_Feedr, Selected: False\n",
      "Column: Condition1_Norm, Selected: False\n",
      "Column: Condition1_PosA, Selected: False\n",
      "Column: Condition1_PosN, Selected: False\n",
      "Column: Condition1_RRAe, Selected: False\n",
      "Column: Condition1_RRAn, Selected: False\n",
      "Column: Condition1_RRNe, Selected: False\n",
      "Column: Condition1_RRNn, Selected: False\n",
      "Column: Condition2_Artery, Selected: False\n",
      "Column: Condition2_Feedr, Selected: False\n",
      "Column: Condition2_Norm, Selected: False\n",
      "Column: Condition2_PosA, Selected: False\n",
      "Column: Condition2_PosN, Selected: False\n",
      "Column: Condition2_RRAe, Selected: False\n",
      "Column: Condition2_RRAn, Selected: False\n",
      "Column: Condition2_RRNn, Selected: False\n",
      "Column: BldgType_1Fam, Selected: False\n",
      "Column: BldgType_2fmCon, Selected: False\n",
      "Column: BldgType_Duplex, Selected: False\n",
      "Column: BldgType_Twnhs, Selected: False\n",
      "Column: BldgType_TwnhsE, Selected: False\n",
      "Column: HouseStyle_1.5Fin, Selected: False\n",
      "Column: HouseStyle_1.5Unf, Selected: False\n",
      "Column: HouseStyle_1Story, Selected: False\n",
      "Column: HouseStyle_2.5Fin, Selected: False\n",
      "Column: HouseStyle_2.5Unf, Selected: False\n",
      "Column: HouseStyle_2Story, Selected: False\n",
      "Column: HouseStyle_SFoyer, Selected: False\n",
      "Column: HouseStyle_SLvl, Selected: False\n",
      "Column: RoofStyle_Flat, Selected: False\n",
      "Column: RoofStyle_Gable, Selected: False\n",
      "Column: RoofStyle_Gambrel, Selected: False\n",
      "Column: RoofStyle_Hip, Selected: False\n",
      "Column: RoofStyle_Mansard, Selected: False\n",
      "Column: RoofStyle_Shed, Selected: False\n",
      "Column: RoofMatl_CompShg, Selected: False\n",
      "Column: RoofMatl_Membran, Selected: False\n",
      "Column: RoofMatl_Metal, Selected: False\n",
      "Column: RoofMatl_Roll, Selected: False\n",
      "Column: RoofMatl_Tar&Grv, Selected: False\n",
      "Column: RoofMatl_WdShake, Selected: False\n",
      "Column: RoofMatl_WdShngl, Selected: False\n",
      "Column: Exterior1st_AsbShng, Selected: False\n",
      "Column: Exterior1st_AsphShn, Selected: False\n",
      "Column: Exterior1st_BrkComm, Selected: False\n",
      "Column: Exterior1st_BrkFace, Selected: False\n",
      "Column: Exterior1st_CBlock, Selected: False\n",
      "Column: Exterior1st_CemntBd, Selected: False\n",
      "Column: Exterior1st_HdBoard, Selected: False\n",
      "Column: Exterior1st_ImStucc, Selected: False\n",
      "Column: Exterior1st_MetalSd, Selected: False\n",
      "Column: Exterior1st_Plywood, Selected: False\n",
      "Column: Exterior1st_Stone, Selected: False\n",
      "Column: Exterior1st_Stucco, Selected: False\n",
      "Column: Exterior1st_VinylSd, Selected: False\n",
      "Column: Exterior1st_Wd Sdng, Selected: False\n",
      "Column: Exterior1st_WdShing, Selected: False\n",
      "Column: Exterior2nd_AsbShng, Selected: False\n",
      "Column: Exterior2nd_AsphShn, Selected: False\n",
      "Column: Exterior2nd_Brk Cmn, Selected: False\n",
      "Column: Exterior2nd_BrkFace, Selected: False\n",
      "Column: Exterior2nd_CBlock, Selected: False\n",
      "Column: Exterior2nd_CmentBd, Selected: False\n",
      "Column: Exterior2nd_HdBoard, Selected: False\n",
      "Column: Exterior2nd_ImStucc, Selected: False\n",
      "Column: Exterior2nd_MetalSd, Selected: False\n",
      "Column: Exterior2nd_Other, Selected: False\n",
      "Column: Exterior2nd_Plywood, Selected: False\n",
      "Column: Exterior2nd_Stone, Selected: False\n",
      "Column: Exterior2nd_Stucco, Selected: False\n",
      "Column: Exterior2nd_VinylSd, Selected: False\n",
      "Column: Exterior2nd_Wd Sdng, Selected: False\n",
      "Column: Exterior2nd_Wd Shng, Selected: False\n",
      "Column: MasVnrType_BrkCmn, Selected: False\n",
      "Column: MasVnrType_BrkFace, Selected: False\n",
      "Column: MasVnrType_None, Selected: False\n",
      "Column: MasVnrType_Stone, Selected: False\n",
      "Column: Foundation_BrkTil, Selected: False\n",
      "Column: Foundation_CBlock, Selected: False\n",
      "Column: Foundation_PConc, Selected: False\n",
      "Column: Foundation_Slab, Selected: False\n",
      "Column: Foundation_Stone, Selected: False\n",
      "Column: Foundation_Wood, Selected: False\n",
      "Column: Heating_Floor, Selected: False\n",
      "Column: Heating_GasA, Selected: False\n",
      "Column: Heating_GasW, Selected: False\n",
      "Column: Heating_Grav, Selected: False\n",
      "Column: Heating_OthW, Selected: False\n",
      "Column: Heating_Wall, Selected: False\n",
      "Column: CentralAir_N, Selected: False\n",
      "Column: CentralAir_Y, Selected: False\n",
      "Column: GarageType_2Types, Selected: False\n",
      "Column: GarageType_Attchd, Selected: False\n",
      "Column: GarageType_Basment, Selected: False\n",
      "Column: GarageType_BuiltIn, Selected: False\n",
      "Column: GarageType_CarPort, Selected: False\n",
      "Column: GarageType_Detchd, Selected: False\n",
      "Column: MoSold_1, Selected: False\n",
      "Column: MoSold_2, Selected: False\n",
      "Column: MoSold_3, Selected: False\n",
      "Column: MoSold_4, Selected: True\n",
      "Column: MoSold_5, Selected: False\n",
      "Column: MoSold_6, Selected: False\n",
      "Column: MoSold_7, Selected: False\n",
      "Column: MoSold_8, Selected: False\n",
      "Column: MoSold_9, Selected: False\n",
      "Column: MoSold_10, Selected: False\n",
      "Column: MoSold_11, Selected: False\n",
      "Column: MoSold_12, Selected: False\n",
      "Column: SaleType_COD, Selected: False\n",
      "Column: SaleType_CWD, Selected: False\n",
      "Column: SaleType_Con, Selected: False\n",
      "Column: SaleType_ConLD, Selected: False\n",
      "Column: SaleType_ConLI, Selected: False\n",
      "Column: SaleType_ConLw, Selected: False\n",
      "Column: SaleType_New, Selected: False\n",
      "Column: SaleType_Oth, Selected: False\n",
      "Column: SaleType_WD, Selected: False\n",
      "Column: SaleCondition_Abnorml, Selected: False\n",
      "Column: SaleCondition_AdjLand, Selected: False\n",
      "Column: SaleCondition_Alloca, Selected: False\n",
      "Column: SaleCondition_Family, Selected: False\n",
      "Column: SaleCondition_Normal, Selected: True\n",
      "Column: SaleCondition_Partial, Selected: False\n",
      "Column: LotShape, Selected: False\n",
      "Column: Utilities, Selected: False\n",
      "Column: LandSlope, Selected: False\n",
      "Column: OverallQual, Selected: False\n",
      "Column: OverallCond, Selected: True\n",
      "Column: ExterQual, Selected: True\n",
      "Column: ExterCond, Selected: False\n",
      "Column: BsmtQual, Selected: False\n",
      "Column: BsmtCond, Selected: False\n",
      "Column: BsmtExposure, Selected: False\n",
      "Column: BsmtFinType1, Selected: False\n",
      "Column: BsmtFinType2, Selected: False\n",
      "Column: HeatingQC, Selected: False\n",
      "Column: Electrical, Selected: False\n",
      "Column: KitchenQual, Selected: True\n",
      "Column: Functional, Selected: False\n",
      "Column: FireplaceQu, Selected: False\n",
      "Column: GarageFinish, Selected: False\n",
      "Column: GarageQual, Selected: False\n",
      "Column: GarageCond, Selected: False\n",
      "Column: PavedDrive, Selected: True\n",
      "Column: LotFrontage, Selected: True\n",
      "Column: LotArea, Selected: True\n",
      "Column: YearBuilt, Selected: True\n",
      "Column: YearRemodAdd, Selected: True\n",
      "Column: MasVnrArea, Selected: True\n",
      "Column: BsmtFinSF1, Selected: False\n",
      "Column: BsmtFinSF2, Selected: True\n",
      "Column: BsmtUnfSF, Selected: True\n",
      "Column: TotalBsmtSF, Selected: False\n",
      "Column: 1stFlrSF, Selected: True\n",
      "Column: 2ndFlrSF, Selected: True\n",
      "Column: LowQualFinSF, Selected: True\n",
      "Column: GrLivArea, Selected: False\n",
      "Column: BsmtFullBath, Selected: True\n",
      "Column: BsmtHalfBath, Selected: True\n",
      "Column: FullBath, Selected: True\n",
      "Column: HalfBath, Selected: True\n",
      "Column: BedroomAbvGr, Selected: True\n",
      "Column: KitchenAbvGr, Selected: True\n",
      "Column: TotRmsAbvGrd, Selected: True\n",
      "Column: Fireplaces, Selected: True\n",
      "Column: GarageCars, Selected: True\n",
      "Column: GarageArea, Selected: False\n",
      "Column: WoodDeckSF, Selected: False\n",
      "Column: OpenPorchSF, Selected: True\n",
      "Column: EnclosedPorch, Selected: True\n",
      "Column: 3SsnPorch, Selected: True\n",
      "Column: ScreenPorch, Selected: True\n",
      "Column: PoolArea, Selected: False\n",
      "Column: MiscVal, Selected: False\n",
      "Column: GarageYrBlt, Selected: True\n",
      "Column: YrSold, Selected: False\n"
     ]
    }
   ],
   "source": [
    "for i in range(X.shape[1]):\n",
    "    print('Column: %s, Selected: %s' % (X.columns[i], back_bestK.support_[i]))"
   ]
  },
  {
   "cell_type": "markdown",
   "id": "swedish-tractor",
   "metadata": {},
   "source": [
    "### 5. Sequential Feature Selection - Forward Selection"
   ]
  },
  {
   "cell_type": "code",
   "execution_count": 50,
   "id": "confident-pilot",
   "metadata": {},
   "outputs": [
    {
     "name": "stdout",
     "output_type": "stream",
     "text": [
      "Features selected by forward selection: ['MSSubClass_150', 'MSSubClass_160', 'MSSubClass_180', 'Neighborhood_NPkVill', 'Neighborhood_NWAmes', 'Condition2_RRAe', 'Condition2_RRAn', 'HouseStyle_2.5Unf', 'RoofStyle_Flat', 'RoofMatl_Tar&Grv', 'Exterior1st_Stucco', 'Exterior2nd_Brk Cmn', 'Exterior2nd_CBlock', 'Exterior2nd_Stone', 'Heating_Floor', 'Heating_GasW', 'Heating_OthW', 'Heating_Wall', 'MoSold_2', 'MoSold_12', 'SaleType_COD', 'SaleType_CWD', 'SaleType_Con', 'SaleType_ConLD', 'SaleType_ConLI', 'SaleType_ConLw', 'SaleType_Oth', 'SaleCondition_Abnorml', 'SaleCondition_Alloca', 'PoolArea']\n"
     ]
    }
   ],
   "source": [
    "from sklearn.feature_selection import SequentialFeatureSelector\n",
    "from sklearn.neighbors import KNeighborsRegressor\n",
    "knn = KNeighborsRegressor(n_neighbors=3)\n",
    "forward_bestK = SequentialFeatureSelector(knn, direction = 'forward', n_features_to_select=30)\n",
    "forward_bestK.fit(X, y)\n",
    "#for i in range(X_encoded.shape[1]):\n",
    "#    print('Column: %s, Selected: %s' % (X.columns[i], for_bestK.support_[i]))\n",
    "print(\"Features selected by forward selection: \"\n",
    "      f\"{X.columns[forward_bestK.get_support()].tolist()}\")   "
   ]
  },
  {
   "cell_type": "code",
   "execution_count": 58,
   "id": "obvious-victoria",
   "metadata": {},
   "outputs": [
    {
     "name": "stdout",
     "output_type": "stream",
     "text": [
      "Collecting package metadata (current_repodata.json): done\n",
      "Solving environment: done\n",
      "\n",
      "## Package Plan ##\n",
      "\n",
      "  environment location: /Users/vusalbabashov/opt/anaconda3\n",
      "\n",
      "  added / updated specs:\n",
      "    - feature_engine\n",
      "\n",
      "\n",
      "The following packages will be downloaded:\n",
      "\n",
      "    package                    |            build\n",
      "    ---------------------------|-----------------\n",
      "    feature_engine-1.0.2       |     pyhd8ed1ab_0          49 KB  conda-forge\n",
      "    openssl-1.1.1j             |       hbcf498f_0         1.9 MB  conda-forge\n",
      "    ------------------------------------------------------------\n",
      "                                           Total:         1.9 MB\n",
      "\n",
      "The following NEW packages will be INSTALLED:\n",
      "\n",
      "  feature_engine     conda-forge/noarch::feature_engine-1.0.2-pyhd8ed1ab_0\n",
      "\n",
      "The following packages will be SUPERSEDED by a higher-priority channel:\n",
      "\n",
      "  ca-certificates    pkgs/main::ca-certificates-2021.1.19-~ --> conda-forge::ca-certificates-2020.12.5-h033912b_0\n",
      "  openssl              pkgs/main::openssl-1.1.1j-h9ed2024_0 --> conda-forge::openssl-1.1.1j-hbcf498f_0\n",
      "\n",
      "\n",
      "\n",
      "Downloading and Extracting Packages\n",
      "openssl-1.1.1j       | 1.9 MB    | ##################################### | 100% \n",
      "feature_engine-1.0.2 | 49 KB     | ##################################### | 100% \n",
      "Preparing transaction: done\n",
      "Verifying transaction: done\n",
      "Executing transaction: done\n",
      "\n",
      "Note: you may need to restart the kernel to use updated packages.\n"
     ]
    }
   ],
   "source": [
    "conda install -c conda-forge feature_engine"
   ]
  },
  {
   "cell_type": "code",
   "execution_count": 1,
   "id": "tested-equivalent",
   "metadata": {},
   "outputs": [],
   "source": []
  },
  {
   "cell_type": "code",
   "execution_count": null,
   "id": "arranged-jefferson",
   "metadata": {},
   "outputs": [],
   "source": []
  },
  {
   "cell_type": "markdown",
   "id": "australian-universal",
   "metadata": {},
   "source": [
    "Despite having different set of important features, some features (i.e., numeric cols) appear as important on all methods."
   ]
  }
 ],
 "metadata": {
  "kernelspec": {
   "display_name": "Python 3",
   "language": "python",
   "name": "python3"
  },
  "language_info": {
   "codemirror_mode": {
    "name": "ipython",
    "version": 3
   },
   "file_extension": ".py",
   "mimetype": "text/x-python",
   "name": "python",
   "nbconvert_exporter": "python",
   "pygments_lexer": "ipython3",
   "version": "3.8.2"
  }
 },
 "nbformat": 4,
 "nbformat_minor": 5
}
