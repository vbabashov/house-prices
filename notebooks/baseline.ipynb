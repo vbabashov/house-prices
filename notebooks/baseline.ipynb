{
 "cells": [
  {
   "cell_type": "markdown",
   "id": "compound-surveillance",
   "metadata": {},
   "source": [
    "# Notebook 2: Baseline Model and Performance"
   ]
  },
  {
   "cell_type": "code",
   "execution_count": 210,
   "id": "dangerous-window",
   "metadata": {},
   "outputs": [],
   "source": [
    "import pandas as pd\n",
    "import numpy as np\n",
    "%matplotlib inline\n",
    "import warnings\n",
    "warnings.filterwarnings('ignore')\n",
    "\n",
    "from sklearn.impute import SimpleImputer\n",
    "from sklearn.preprocessing import OneHotEncoder, OrdinalEncoder, LabelEncoder\n",
    "from sklearn.metrics import mean_absolute_error, mean_squared_error, r2_score\n",
    "from sklearn.linear_model import LinearRegression\n",
    "from sklearn.model_selection import train_test_split\n",
    "from sklearn.compose import ColumnTransformer\n",
    "\n",
    "#your info here\n",
    "__author__ = \"Vusal Babashov\"\n",
    "__email__ = \"vbabashov@gmail.com\"\n",
    "__website__ = 'https://vbabashov.github.io'"
   ]
  },
  {
   "cell_type": "code",
   "execution_count": 211,
   "id": "silver-hurricane",
   "metadata": {},
   "outputs": [],
   "source": [
    "nominal = ['MSSubClass', 'MSZoning', 'Street', 'LandContour', 'LotConfig', \n",
    "                   'Neighborhood', 'Condition1', 'Condition2', 'BldgType', 'HouseStyle',\n",
    "                   'RoofStyle', 'RoofMatl', 'Exterior1st', 'Exterior2nd', 'MasVnrType', \n",
    "                   'Foundation', 'Heating', 'CentralAir', 'GarageType', 'MoSold',\n",
    "                   'SaleType', 'SaleCondition'] # removed Alley, MiscFeature, \n",
    "\n",
    "ordinal = ['LotShape', 'Utilities', 'LandSlope', 'OverallQual', 'OverallCond', \n",
    "                   'ExterQual', 'ExterCond', 'BsmtQual', 'BsmtCond', 'BsmtExposure', \n",
    "                   'BsmtFinType1', 'BsmtFinType2', 'HeatingQC', 'Electrical', 'KitchenQual', \n",
    "                   'Functional', 'FireplaceQu', 'GarageFinish', 'GarageQual', 'GarageCond',\n",
    "                   'PavedDrive'] #removed PoolQC, Fence,\n",
    "\n",
    "\n",
    "numeric = ['Id','LotFrontage','LotArea','YearBuilt','YearRemodAdd','MasVnrArea','BsmtFinSF1',\n",
    "                  'BsmtFinSF2', 'BsmtUnfSF','TotalBsmtSF','1stFlrSF','2ndFlrSF','LowQualFinSF','GrLivArea',\n",
    "                  'BsmtFullBath','BsmtHalfBath','FullBath','HalfBath','BedroomAbvGr','KitchenAbvGr', 'TotRmsAbvGrd',\n",
    "                  'Fireplaces','GarageCars','GarageArea','WoodDeckSF','OpenPorchSF','EnclosedPorch',\n",
    "                  '3SsnPorch','ScreenPorch','PoolArea','MiscVal', 'GarageYrBlt', 'YrSold', 'SalePrice']\n",
    "\n",
    "categorical = nominal+ordinal\n",
    "\n",
    "# Ordinal Category Values\n",
    "lot_shape = ['IR3','IR2','IR1','Reg']\n",
    "utilities = ['ELO', 'NoSeWa', 'NoSewr','AllPub']\n",
    "land_slope = ['Sev','Mod','Gtl']\n",
    "overall_qual = [1, 2, 3, 4, 5, 6, 7, 8, 9, 10]  # already in the ordinal structure\n",
    "overall_cond = [1, 2, 3, 4, 5, 6, 7, 8, 9, 10]  # already in the ordinal structure\n",
    "exter_qual = ['Po', 'Fa', 'TA', 'Gd', 'Ex']\n",
    "exter_cond = ['Po', 'Fa', 'TA', 'Gd', 'Ex']\n",
    "bsmt_qual  = ['NA', 'Po', 'Fa', 'TA', 'Gd', 'Ex']\n",
    "bsmt_cond  = ['NA', 'Po', 'Fa', 'TA', 'Gd', 'Ex']\n",
    "bsmt_exposure  = ['NA', 'No', 'Mn', 'Av', 'Gd']\n",
    "bsmt_fin_type1 = ['NA', 'Unf', 'LwQ', 'Rec', 'BLQ', 'ALQ', 'GLQ']\n",
    "bsmt_fin_type2 = ['NA', 'Unf', 'LwQ', 'Rec', 'BLQ', 'ALQ', 'GLQ']\n",
    "heating_qual = ['Po', 'Fa', 'TA', 'Gd', 'Ex']\n",
    "electrical = ['Mix', 'FuseP', 'FuseF', 'FuseA', 'SBrkr']\n",
    "kitchen_qual = ['Po', 'Fa', 'TA', 'Gd', 'Ex']\n",
    "functional = ['Sal', 'Sev', 'Maj2', 'Maj1', 'Mod', 'Min2', 'Min1', 'Typ']\n",
    "fire_place_qual = ['NA', 'Po', 'Fa', 'TA', 'Gd', 'Ex']\n",
    "garage_finish = ['NA', 'Unf', 'RFn', 'Fin']\n",
    "garage_qual = ['NA', 'Po', 'Fa', 'TA', 'Gd', 'Ex']\n",
    "garage_cond = ['NA', 'Po', 'Fa', 'TA', 'Gd', 'Ex']\n",
    "paved_drive = ['N', 'P', 'Y']\n",
    "\n",
    "ordinal_categories_list = [lot_shape , utilities, land_slope, overall_qual, overall_cond, exter_qual, exter_cond, bsmt_qual, \n",
    "                          bsmt_cond, bsmt_exposure, bsmt_fin_type1, bsmt_fin_type2, heating_qual, electrical, kitchen_qual,\n",
    "                          functional, fire_place_qual, garage_finish, garage_qual, garage_cond, paved_drive]  "
   ]
  },
  {
   "cell_type": "code",
   "execution_count": 212,
   "id": "floating-matrix",
   "metadata": {},
   "outputs": [],
   "source": [
    "def log_transform (df):\n",
    "    '''This function performs the log transformation of the target'''\n",
    "    df['SalePrice'] = np.log(df['SalePrice'])   \n",
    "    return df\n",
    "    \n",
    "def drop_missing_cols_df (df):\n",
    "    '''Identifies and drops the columns with 80% or hihgher proportion of missing data '''\n",
    "    dropped_cols = []  \n",
    "    for col in df.columns:\n",
    "        if df[col].isnull().sum()/df.shape[0] >= 0.8:\n",
    "            dropped_cols.append(col)\n",
    "    dropped_df=df.drop(columns=dropped_cols)\n",
    "    return dropped_df, dropped_cols  \n",
    "\n",
    "\n",
    "def impute_missing_values (df, categorical_features, numeric_features):\n",
    "    ''' Imputes the continious columns with median and categorical columns with the mode value'''\n",
    "    imputer_con = SimpleImputer(missing_values=np.nan, strategy='median')\n",
    "    imputer_cat = SimpleImputer(missing_values=np.nan, strategy='most_frequent')\n",
    "    for col in categorical_features+numeric_features:\n",
    "        if df[col].isnull().sum() > 0:    \n",
    "            if col in categorical_features:              \n",
    "                df[col] = imputer_cat.fit_transform(df[col].values.reshape(-1,1))\n",
    "            elif col in numeric_features:  \n",
    "                df[col] = imputer_con.fit_transform(df[col].values.reshape(-1,1))\n",
    "    return df  \n",
    "\n",
    "\n",
    "def convert_month_string (df):\n",
    "    '''This function maps the numerical month names into string month names'''\n",
    "    d = { 1 : 'Jan',\n",
    "          2 : 'Feb',\n",
    "          3 : 'Mar',\n",
    "          4 : 'Apr',\n",
    "          5 : 'May',\n",
    "          6 : 'June',\n",
    "          7 : 'July',\n",
    "          8 : 'Aug',\n",
    "          9 : 'Sep',\n",
    "          10: 'Oct',\n",
    "          11: 'Nov',\n",
    "          12: 'Dec'\n",
    "    }\n",
    "    df['MoSold'] = df ['MoSold'].map(d)\n",
    "    return df\n",
    "\n",
    "\n",
    "def ordinal_hot_encoding (df, nom_cols, ord_cols, ordinal_categories_list):\n",
    "    '''This function encodes nominal variables into one-hot encoding and ordinal variables into ordinal encoding'''\n",
    "    ord_encoder = OrdinalEncoder(categories=ordinal_categories_list)\n",
    "    df[ord_cols] = ord_encoder.fit_transform(df[ord_cols])\n",
    "    df = pd.get_dummies (df, drop_first=True, columns = nom_cols)\n",
    "    return df"
   ]
  },
  {
   "cell_type": "code",
   "execution_count": 213,
   "id": "monetary-trial",
   "metadata": {},
   "outputs": [],
   "source": [
    "data_train_raw = pd.read_csv(\"/Users/vusalbabashov/Desktop/house-prices/data/raw/train.csv\") # load the data"
   ]
  },
  {
   "cell_type": "code",
   "execution_count": 214,
   "id": "virtual-cowboy",
   "metadata": {},
   "outputs": [],
   "source": [
    "transformed_df = log_transform(data_train_raw) # log transform\n",
    "clean_df, columns = drop_missing_cols_df (transformed_df) # drop the missing columns\n",
    "imputed_df = impute_missing_values (clean_df, categorical, numeric)  #impute missing values \n",
    "encoded_df = ordinal_hot_encoding(convert_month_string(imputed_df), nominal, ordinal, ordinal_categories_list) # one hot and ordinal encoding"
   ]
  },
  {
   "cell_type": "code",
   "execution_count": 215,
   "id": "nominated-comment",
   "metadata": {},
   "outputs": [
    {
     "data": {
      "text/plain": [
       "((1168, 213), (292, 213))"
      ]
     },
     "execution_count": 215,
     "metadata": {},
     "output_type": "execute_result"
    }
   ],
   "source": [
    "X_train, X_test, y_train, y_test = train_test_split(encoded_df.drop(['Id', 'SalePrice'], axis=1),encoded_df['SalePrice'],\n",
    "                                                    test_size=0.2,\n",
    "                                                    random_state=0)\n",
    "\n",
    "X_train.shape, X_test.shape"
   ]
  },
  {
   "cell_type": "code",
   "execution_count": 216,
   "id": "answering-relay",
   "metadata": {},
   "outputs": [
    {
     "name": "stdout",
     "output_type": "stream",
     "text": [
      "\n",
      " MAE  for the Baseline Model: 24139.18\n",
      " RMSE for the Baseline Model : 149478.70\n"
     ]
    }
   ],
   "source": [
    "model = LinearRegression()\n",
    "model.fit(X_train, y_train)\n",
    "y_pred = model.predict(X_test)\n",
    "print ('\\n MAE  for the Baseline Model: %.2f'%  mean_absolute_error(np.exp(y_test), np.exp(y_pred)))\n",
    "print (' RMSE for the Baseline Model : %.2f'%   mean_squared_error(np.exp(y_test),  np.exp(y_pred), squared = False))"
   ]
  }
 ],
 "metadata": {
  "kernelspec": {
   "display_name": "Python 3",
   "language": "python",
   "name": "python3"
  },
  "language_info": {
   "codemirror_mode": {
    "name": "ipython",
    "version": 3
   },
   "file_extension": ".py",
   "mimetype": "text/x-python",
   "name": "python",
   "nbconvert_exporter": "python",
   "pygments_lexer": "ipython3",
   "version": "3.8.2"
  }
 },
 "nbformat": 4,
 "nbformat_minor": 5
}
